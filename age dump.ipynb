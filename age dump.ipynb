{
 "cells": [
  {
   "cell_type": "code",
   "execution_count": null,
   "metadata": {},
   "outputs": [],
   "source": [
    "unique_actor_info_df = actor_info_df.drop_duplicates(subset=\"actor id\", keep='last', inplace=False)\n",
    "unique_actor_info_df = unique_actor_info_df .reset_index()\n",
    "actors_info_df = unique_actor_info_df.drop(columns=\"index\")\n",
    "actors_info_df.head()"
   ]
  },
  {
   "cell_type": "code",
   "execution_count": null,
   "metadata": {},
   "outputs": [],
   "source": [
    "# Calculate the age at which the actor was cast most recently \n",
    "date_of_birth = []\n",
    "timeout_count = 1\n",
    "\n",
    "for i in range(len(actors_info_df)):\n",
    "    person_url = url + \"person/\" + str(actors_info_df['actor id'][i]) + \"?api_key=\" + api_key + \"&language=en-US\"\n",
    "    \n",
    "    person_data = requests.get(person_url).json()\n",
    "    date_of_birth.append(person_data[\"birthday\"])\n",
    "    \n",
    "    timeout_count+=1\n",
    "    if (timeout_count%1000) == 0:\n",
    "        time.sleep(10)"
   ]
  },
  {
   "cell_type": "code",
   "execution_count": null,
   "metadata": {},
   "outputs": [],
   "source": [
    "actors_info_df[\"date of birth\"] = date_of_birth\n",
    "actors_info_df.head()"
   ]
  },
  {
   "cell_type": "code",
   "execution_count": null,
   "metadata": {},
   "outputs": [],
   "source": [
    "actors_info_df.to_csv(\"Resources/Lead actors info.csv\")"
   ]
  },
  {
   "cell_type": "code",
   "execution_count": null,
   "metadata": {},
   "outputs": [],
   "source": [
    "def calculate_age(birth_date, release_year):\n",
    "    if birth_date is not None:\n",
    "        dob = datetime.strptime(birth_date, \"%Y-%m-%d\")\n",
    "        age = release_year - dob.year\n",
    "    else:\n",
    "        age = 0\n",
    "    return age"
   ]
  },
  {
   "cell_type": "code",
   "execution_count": null,
   "metadata": {},
   "outputs": [],
   "source": [
    "age_gender_subset = actor_info[[\"actor name\", \"gender\", \"movie release year\" ,\"age\"]]\n",
    "\n",
    "age_gender_subset = age_gender_subset[age_gender_subset[\"gender\"] != 'Unknown']\n",
    "\n",
    "age_gender_grouped = age_gender_subset.groupby([\"movie release year\", \"gender\"])"
   ]
  },
  {
   "cell_type": "code",
   "execution_count": null,
   "metadata": {},
   "outputs": [],
   "source": [
    "age_gender_analysis = age_gender_grouped[\"age\"].mean().reset_index(name=\"average\")\n",
    "age_gender_analysis_df = pd.DataFrame(age_gender_analysis)\n",
    "age_gender_analysis_df.head()"
   ]
  },
  {
   "cell_type": "code",
   "execution_count": null,
   "metadata": {},
   "outputs": [],
   "source": [
    "age_gender_pivot = pd.pivot_table(age_gender_analysis_df, index=[\"movie release year\"], columns = \"gender\", values = \"average\")"
   ]
  },
  {
   "cell_type": "code",
   "execution_count": null,
   "metadata": {},
   "outputs": [],
   "source": [
    "age_gender_pivot.plot.bar(color = colors, figsize=(10,7))\n",
    "plt.title(\"Average age of Female vs Male Lead Actors - Yearly trend\")\n",
    "plt.xlabel(\"Years\")\n",
    "plt.ylabel(\"Average age of Lead Actor's gender wise\")\n",
    "plt.legend(loc='lower left',  bbox_to_anchor=(1.0, 0.5), title =\"Gender of the Lead Actor\")\n",
    "plt.savefig(\"Resources/gender analysis by age.png\", bbox_inches='tight')\n",
    "plt.show()"
   ]
  },
  {
   "cell_type": "code",
   "execution_count": null,
   "metadata": {},
   "outputs": [],
   "source": [
    "# Establish bins for 5 years\n",
    "\n",
    "half_decade_bins = [1989, 1994, 1999, 2004, 2009,2014, 2019]\n",
    "half_decade_names = [\"early 1990s\", \"late 1990s\",\"early 2000s\", \"late 2000s\",\"early 2010s\", \"late 2010s\"]"
   ]
  },
  {
   "cell_type": "code",
   "execution_count": null,
   "metadata": {},
   "outputs": [],
   "source": [
    "# Categorize the existing players using the age bins. Hint: use pd.cut()\n",
    "age_gender_subset[\"decade\"] = pd.cut(age_gender_subset[ \"movie release year\"], decade_bins, labels = decade_names)"
   ]
  },
  {
   "cell_type": "code",
   "execution_count": null,
   "metadata": {},
   "outputs": [],
   "source": [
    "age_gender_decade_grpd = age_gender_subset.groupby([\"decade\", \"gender\"])"
   ]
  },
  {
   "cell_type": "code",
   "execution_count": null,
   "metadata": {},
   "outputs": [],
   "source": [
    "age_gender_decade_analysis = age_gender_decade_grpd[\"age\"].mean().reset_index(name=\"average\")\n",
    "age_gender_decade_analysis_df = pd.DataFrame(age_gender_decade_analysis)\n",
    "age_gender_decade_analysis_df"
   ]
  },
  {
   "cell_type": "code",
   "execution_count": null,
   "metadata": {},
   "outputs": [],
   "source": [
    "age_gender_decade_pivot = pd.pivot_table(age_gender_decade_analysis_df, index=[\"decade\"], columns = \"gender\", values = \"average\")"
   ]
  },
  {
   "cell_type": "code",
   "execution_count": null,
   "metadata": {},
   "outputs": [],
   "source": [
    "age_gender_decade_pivot.plot.bar(color = colors, figsize=(10,7))\n",
    "plt.title(\"Average age of Female vs Male Lead Actors - trend by Decade\")\n",
    "plt.xlabel(\"Decades\")\n",
    "plt.ylabel(\"Average age of Lead Actor's gender wise\")\n",
    "plt.legend(loc='lower left',  bbox_to_anchor=(1.0, 0.5), title =\"Gender of the Lead Actor\")\n",
    "plt.savefig(\"Resources/age analysis gender wise- by Decades.png\", bbox_inches='tight')\n",
    "plt.show()"
   ]
  },
  {
   "cell_type": "code",
   "execution_count": null,
   "metadata": {},
   "outputs": [],
   "source": [
    "genre_pivot.plot.bar(stacked=True, color = colors, figsize=(10,7))\n",
    "plt.title(\"Genre of movies with Female vs Male Lead Actor\")\n",
    "plt.xlabel(\"Genre\")\n",
    "plt.ylabel(\"Number of Movies - Lead Actor's gender wise\")\n",
    "plt.legend(loc=\"best\")\n",
    "plt.savefig(\"Resources/Movies gender analysis by genre.png\")\n",
    "plt.show()"
   ]
  },
  {
   "cell_type": "code",
   "execution_count": null,
   "metadata": {},
   "outputs": [],
   "source": []
  }
 ],
 "metadata": {
  "kernelspec": {
   "display_name": "Python 3",
   "language": "python",
   "name": "python3"
  },
  "language_info": {
   "codemirror_mode": {
    "name": "ipython",
    "version": 3
   },
   "file_extension": ".py",
   "mimetype": "text/x-python",
   "name": "python",
   "nbconvert_exporter": "python",
   "pygments_lexer": "ipython3",
   "version": "3.6.5"
  }
 },
 "nbformat": 4,
 "nbformat_minor": 2
}
