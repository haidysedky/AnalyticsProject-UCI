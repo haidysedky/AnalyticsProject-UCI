{
 "cells": [
  {
   "cell_type": "code",
   "execution_count": 64,
   "metadata": {},
   "outputs": [],
   "source": [
    "%matplotlib inline\n",
    "import pandas as pd\n",
    "import numpy as np\n",
    "import matplotlib.pyplot as plt\n",
    "import matplotlib\n",
    "import matplotlib.ticker as mtick\n",
    "\n",
    "matplotlib.style.use('ggplot')\n",
    "\n",
    "import requests\n",
    "import json\n",
    "import time\n",
    "from datetime import datetime\n",
    "from pprint import pprint\n",
    "from config import api_key"
   ]
  },
  {
   "cell_type": "code",
   "execution_count": 36,
   "metadata": {},
   "outputs": [],
   "source": [
    "file1 = \"Resources/Most popular 100 movies.csv\"\n",
    "file2 = \"Resources/Cast_100_popular_movies.csv\"\n",
    "file3 = \"Resources/Genre list.csv\"\n",
    "file4 = \"Resources/100 popular with genre.csv\"\n",
    "file5= \"Resources/Lead actors info.csv\""
   ]
  },
  {
   "cell_type": "code",
   "execution_count": 37,
   "metadata": {},
   "outputs": [],
   "source": [
    "movie = pd.read_csv(file1, index_col=0)\n",
    "cast = pd.read_csv(file2,  index_col=0)\n",
    "genre_list = pd.read_csv(file3)\n",
    "movie_genre = pd.read_csv(file4, index_col=0)\n",
    "actor_info = pd.read_csv(file5,index_col=0)"
   ]
  },
  {
   "cell_type": "code",
   "execution_count": 38,
   "metadata": {
    "scrolled": true
   },
   "outputs": [
    {
     "data": {
      "text/html": [
       "<div>\n",
       "<style scoped>\n",
       "    .dataframe tbody tr th:only-of-type {\n",
       "        vertical-align: middle;\n",
       "    }\n",
       "\n",
       "    .dataframe tbody tr th {\n",
       "        vertical-align: top;\n",
       "    }\n",
       "\n",
       "    .dataframe thead th {\n",
       "        text-align: right;\n",
       "    }\n",
       "</style>\n",
       "<table border=\"1\" class=\"dataframe\">\n",
       "  <thead>\n",
       "    <tr style=\"text-align: right;\">\n",
       "      <th></th>\n",
       "      <th>actor id</th>\n",
       "      <th>actor name</th>\n",
       "      <th>character</th>\n",
       "      <th>gender</th>\n",
       "      <th>movie id</th>\n",
       "      <th>movie release year</th>\n",
       "      <th>title</th>\n",
       "    </tr>\n",
       "  </thead>\n",
       "  <tbody>\n",
       "    <tr>\n",
       "      <th>0</th>\n",
       "      <td>1109</td>\n",
       "      <td>Kevin Peter Hall</td>\n",
       "      <td>The Predator</td>\n",
       "      <td>Male</td>\n",
       "      <td>169</td>\n",
       "      <td>1990</td>\n",
       "      <td>Predator 2</td>\n",
       "    </tr>\n",
       "    <tr>\n",
       "      <th>1</th>\n",
       "      <td>85</td>\n",
       "      <td>Johnny Depp</td>\n",
       "      <td>Edward Scissorhands</td>\n",
       "      <td>Male</td>\n",
       "      <td>162</td>\n",
       "      <td>1990</td>\n",
       "      <td>Edward Scissorhands</td>\n",
       "    </tr>\n",
       "    <tr>\n",
       "      <th>2</th>\n",
       "      <td>62</td>\n",
       "      <td>Bruce Willis</td>\n",
       "      <td>John McClane</td>\n",
       "      <td>Male</td>\n",
       "      <td>1573</td>\n",
       "      <td>1990</td>\n",
       "      <td>Die Hard 2</td>\n",
       "    </tr>\n",
       "    <tr>\n",
       "      <th>3</th>\n",
       "      <td>1204</td>\n",
       "      <td>Julia Roberts</td>\n",
       "      <td>Vivian Ward</td>\n",
       "      <td>Female</td>\n",
       "      <td>114</td>\n",
       "      <td>1990</td>\n",
       "      <td>Pretty Woman</td>\n",
       "    </tr>\n",
       "    <tr>\n",
       "      <th>5</th>\n",
       "      <td>1158</td>\n",
       "      <td>Al Pacino</td>\n",
       "      <td>Don Michael Corleone</td>\n",
       "      <td>Male</td>\n",
       "      <td>242</td>\n",
       "      <td>1990</td>\n",
       "      <td>The Godfather: Part III</td>\n",
       "    </tr>\n",
       "  </tbody>\n",
       "</table>\n",
       "</div>"
      ],
      "text/plain": [
       "   actor id        actor name             character  gender  movie id  \\\n",
       "0      1109  Kevin Peter Hall          The Predator    Male       169   \n",
       "1        85       Johnny Depp   Edward Scissorhands    Male       162   \n",
       "2        62      Bruce Willis          John McClane    Male      1573   \n",
       "3      1204     Julia Roberts           Vivian Ward  Female       114   \n",
       "5      1158         Al Pacino  Don Michael Corleone    Male       242   \n",
       "\n",
       "   movie release year                    title  \n",
       "0                1990               Predator 2  \n",
       "1                1990      Edward Scissorhands  \n",
       "2                1990               Die Hard 2  \n",
       "3                1990             Pretty Woman  \n",
       "5                1990  The Godfather: Part III  "
      ]
     },
     "execution_count": 38,
     "metadata": {},
     "output_type": "execute_result"
    }
   ],
   "source": [
    "cast.head()"
   ]
  },
  {
   "cell_type": "code",
   "execution_count": 39,
   "metadata": {},
   "outputs": [],
   "source": [
    "gender_year = cast[[\"actor name\", \"gender\", \"movie release year\"]]\n",
    "\n",
    "gender_year_grouped = gender_year.groupby([\"movie release year\", \"gender\"])\n",
    "\n",
    "gender_year_analysis = gender_year_grouped[\"gender\"].count().reset_index(name=\"count\")\n",
    "gender_year_analysis_df = pd.DataFrame(gender_year_analysis)"
   ]
  },
  {
   "cell_type": "code",
   "execution_count": 40,
   "metadata": {},
   "outputs": [
    {
     "data": {
      "text/html": [
       "<div>\n",
       "<style scoped>\n",
       "    .dataframe tbody tr th:only-of-type {\n",
       "        vertical-align: middle;\n",
       "    }\n",
       "\n",
       "    .dataframe tbody tr th {\n",
       "        vertical-align: top;\n",
       "    }\n",
       "\n",
       "    .dataframe thead th {\n",
       "        text-align: right;\n",
       "    }\n",
       "</style>\n",
       "<table border=\"1\" class=\"dataframe\">\n",
       "  <thead>\n",
       "    <tr style=\"text-align: right;\">\n",
       "      <th></th>\n",
       "      <th>movie release year</th>\n",
       "      <th>gender</th>\n",
       "      <th>count</th>\n",
       "    </tr>\n",
       "  </thead>\n",
       "  <tbody>\n",
       "    <tr>\n",
       "      <th>0</th>\n",
       "      <td>1990</td>\n",
       "      <td>Female</td>\n",
       "      <td>20</td>\n",
       "    </tr>\n",
       "    <tr>\n",
       "      <th>1</th>\n",
       "      <td>1990</td>\n",
       "      <td>Male</td>\n",
       "      <td>75</td>\n",
       "    </tr>\n",
       "    <tr>\n",
       "      <th>2</th>\n",
       "      <td>1991</td>\n",
       "      <td>Female</td>\n",
       "      <td>26</td>\n",
       "    </tr>\n",
       "    <tr>\n",
       "      <th>3</th>\n",
       "      <td>1991</td>\n",
       "      <td>Male</td>\n",
       "      <td>70</td>\n",
       "    </tr>\n",
       "    <tr>\n",
       "      <th>4</th>\n",
       "      <td>1992</td>\n",
       "      <td>Female</td>\n",
       "      <td>22</td>\n",
       "    </tr>\n",
       "  </tbody>\n",
       "</table>\n",
       "</div>"
      ],
      "text/plain": [
       "   movie release year  gender  count\n",
       "0                1990  Female     20\n",
       "1                1990    Male     75\n",
       "2                1991  Female     26\n",
       "3                1991    Male     70\n",
       "4                1992  Female     22"
      ]
     },
     "execution_count": 40,
     "metadata": {},
     "output_type": "execute_result"
    }
   ],
   "source": [
    "gender_year_analysis_df.head()"
   ]
  },
  {
   "cell_type": "markdown",
   "metadata": {},
   "source": [
    "### Plot Graph - Gender analysis by years"
   ]
  },
  {
   "cell_type": "code",
   "execution_count": 57,
   "metadata": {},
   "outputs": [],
   "source": [
    "gender_pivot = pd.pivot_table(gender_year_analysis_df, index=[\"movie release year\"], columns = \"gender\", values = \"count\")\n",
    "gender_pivot_percent = gender_pivot.div(gender_pivot.sum(1), axis=0)"
   ]
  },
  {
   "cell_type": "code",
   "execution_count": 71,
   "metadata": {},
   "outputs": [
    {
     "data": {
      "image/png": "[encoded data removed]",
      "text/plain": [
       "<Figure size 720x504 with 1 Axes>"
      ]
     },
     "metadata": {},
     "output_type": "display_data"
    }
   ],
   "source": [
    "colors = [\"orange\", \"skyblue\"]\n",
    "ax = gender_pivot_percent.plot.bar(stacked=True, color = colors, figsize=(10,7))\n",
    "plt.title(\"Number of popular movies with Female vs Male Lead Actor\")\n",
    "plt.xlabel(\"Years\")\n",
    "plt.ylabel(\"Percent of Movies\")\n",
    "vals = ax.get_yticks()\n",
    "ax.set_yticklabels(['{:,.0%}'.format(y) for y in vals])\n",
    "plt.legend(loc='lower left',  bbox_to_anchor=(1.0, 0.5), title =\"Gender of the Lead Actor\")\n",
    "plt.savefig(\"Resources/Are movies male centric.png\", bbox_inches='tight')\n",
    "plt.show()"
   ]
  },
  {
   "cell_type": "markdown",
   "metadata": {},
   "source": [
    "### Gender analysis by genre\n"
   ]
  },
  {
   "cell_type": "code",
   "execution_count": 8,
   "metadata": {},
   "outputs": [
    {
     "data": {
      "text/html": [
       "<div>\n",
       "<style scoped>\n",
       "    .dataframe tbody tr th:only-of-type {\n",
       "        vertical-align: middle;\n",
       "    }\n",
       "\n",
       "    .dataframe tbody tr th {\n",
       "        vertical-align: top;\n",
       "    }\n",
       "\n",
       "    .dataframe thead th {\n",
       "        text-align: right;\n",
       "    }\n",
       "</style>\n",
       "<table border=\"1\" class=\"dataframe\">\n",
       "  <thead>\n",
       "    <tr style=\"text-align: right;\">\n",
       "      <th></th>\n",
       "      <th>actor id</th>\n",
       "      <th>actor name</th>\n",
       "      <th>character</th>\n",
       "      <th>gender</th>\n",
       "      <th>movie id</th>\n",
       "      <th>movie release year</th>\n",
       "      <th>title</th>\n",
       "    </tr>\n",
       "  </thead>\n",
       "  <tbody>\n",
       "    <tr>\n",
       "      <th>0</th>\n",
       "      <td>1109</td>\n",
       "      <td>Kevin Peter Hall</td>\n",
       "      <td>The Predator</td>\n",
       "      <td>Male</td>\n",
       "      <td>169</td>\n",
       "      <td>1990</td>\n",
       "      <td>Predator 2</td>\n",
       "    </tr>\n",
       "    <tr>\n",
       "      <th>1</th>\n",
       "      <td>85</td>\n",
       "      <td>Johnny Depp</td>\n",
       "      <td>Edward Scissorhands</td>\n",
       "      <td>Male</td>\n",
       "      <td>162</td>\n",
       "      <td>1990</td>\n",
       "      <td>Edward Scissorhands</td>\n",
       "    </tr>\n",
       "    <tr>\n",
       "      <th>2</th>\n",
       "      <td>62</td>\n",
       "      <td>Bruce Willis</td>\n",
       "      <td>John McClane</td>\n",
       "      <td>Male</td>\n",
       "      <td>1573</td>\n",
       "      <td>1990</td>\n",
       "      <td>Die Hard 2</td>\n",
       "    </tr>\n",
       "    <tr>\n",
       "      <th>3</th>\n",
       "      <td>1204</td>\n",
       "      <td>Julia Roberts</td>\n",
       "      <td>Vivian Ward</td>\n",
       "      <td>Female</td>\n",
       "      <td>114</td>\n",
       "      <td>1990</td>\n",
       "      <td>Pretty Woman</td>\n",
       "    </tr>\n",
       "    <tr>\n",
       "      <th>5</th>\n",
       "      <td>1158</td>\n",
       "      <td>Al Pacino</td>\n",
       "      <td>Don Michael Corleone</td>\n",
       "      <td>Male</td>\n",
       "      <td>242</td>\n",
       "      <td>1990</td>\n",
       "      <td>The Godfather: Part III</td>\n",
       "    </tr>\n",
       "  </tbody>\n",
       "</table>\n",
       "</div>"
      ],
      "text/plain": [
       "   actor id        actor name             character  gender  movie id  \\\n",
       "0      1109  Kevin Peter Hall          The Predator    Male       169   \n",
       "1        85       Johnny Depp   Edward Scissorhands    Male       162   \n",
       "2        62      Bruce Willis          John McClane    Male      1573   \n",
       "3      1204     Julia Roberts           Vivian Ward  Female       114   \n",
       "5      1158         Al Pacino  Don Michael Corleone    Male       242   \n",
       "\n",
       "   movie release year                    title  \n",
       "0                1990               Predator 2  \n",
       "1                1990      Edward Scissorhands  \n",
       "2                1990               Die Hard 2  \n",
       "3                1990             Pretty Woman  \n",
       "5                1990  The Godfather: Part III  "
      ]
     },
     "execution_count": 8,
     "metadata": {},
     "output_type": "execute_result"
    }
   ],
   "source": [
    "cast.head()"
   ]
  },
  {
   "cell_type": "code",
   "execution_count": 9,
   "metadata": {},
   "outputs": [
    {
     "data": {
      "text/html": [
       "<div>\n",
       "<style scoped>\n",
       "    .dataframe tbody tr th:only-of-type {\n",
       "        vertical-align: middle;\n",
       "    }\n",
       "\n",
       "    .dataframe tbody tr th {\n",
       "        vertical-align: top;\n",
       "    }\n",
       "\n",
       "    .dataframe thead th {\n",
       "        text-align: right;\n",
       "    }\n",
       "</style>\n",
       "<table border=\"1\" class=\"dataframe\">\n",
       "  <thead>\n",
       "    <tr style=\"text-align: right;\">\n",
       "      <th></th>\n",
       "      <th>genre</th>\n",
       "      <th>movie id</th>\n",
       "      <th>overview</th>\n",
       "      <th>title</th>\n",
       "      <th>year</th>\n",
       "    </tr>\n",
       "  </thead>\n",
       "  <tbody>\n",
       "    <tr>\n",
       "      <th>0</th>\n",
       "      <td>Science Fiction</td>\n",
       "      <td>169</td>\n",
       "      <td>Ten years after a band of mercenaries first ba...</td>\n",
       "      <td>Predator 2</td>\n",
       "      <td>1990</td>\n",
       "    </tr>\n",
       "    <tr>\n",
       "      <th>1</th>\n",
       "      <td>Action</td>\n",
       "      <td>169</td>\n",
       "      <td>Ten years after a band of mercenaries first ba...</td>\n",
       "      <td>Predator 2</td>\n",
       "      <td>1990</td>\n",
       "    </tr>\n",
       "    <tr>\n",
       "      <th>2</th>\n",
       "      <td>Thriller</td>\n",
       "      <td>169</td>\n",
       "      <td>Ten years after a band of mercenaries first ba...</td>\n",
       "      <td>Predator 2</td>\n",
       "      <td>1990</td>\n",
       "    </tr>\n",
       "    <tr>\n",
       "      <th>3</th>\n",
       "      <td>Fantasy</td>\n",
       "      <td>162</td>\n",
       "      <td>A small suburban town receives a visit from a ...</td>\n",
       "      <td>Edward Scissorhands</td>\n",
       "      <td>1990</td>\n",
       "    </tr>\n",
       "    <tr>\n",
       "      <th>4</th>\n",
       "      <td>Drama</td>\n",
       "      <td>162</td>\n",
       "      <td>A small suburban town receives a visit from a ...</td>\n",
       "      <td>Edward Scissorhands</td>\n",
       "      <td>1990</td>\n",
       "    </tr>\n",
       "  </tbody>\n",
       "</table>\n",
       "</div>"
      ],
      "text/plain": [
       "             genre  movie id  \\\n",
       "0  Science Fiction       169   \n",
       "1           Action       169   \n",
       "2         Thriller       169   \n",
       "3          Fantasy       162   \n",
       "4            Drama       162   \n",
       "\n",
       "                                            overview                title  \\\n",
       "0  Ten years after a band of mercenaries first ba...           Predator 2   \n",
       "1  Ten years after a band of mercenaries first ba...           Predator 2   \n",
       "2  Ten years after a band of mercenaries first ba...           Predator 2   \n",
       "3  A small suburban town receives a visit from a ...  Edward Scissorhands   \n",
       "4  A small suburban town receives a visit from a ...  Edward Scissorhands   \n",
       "\n",
       "   year  \n",
       "0  1990  \n",
       "1  1990  \n",
       "2  1990  \n",
       "3  1990  \n",
       "4  1990  "
      ]
     },
     "execution_count": 9,
     "metadata": {},
     "output_type": "execute_result"
    }
   ],
   "source": [
    "movie_genre.head()"
   ]
  },
  {
   "cell_type": "code",
   "execution_count": 10,
   "metadata": {},
   "outputs": [
    {
     "data": {
      "text/html": [
       "<div>\n",
       "<style scoped>\n",
       "    .dataframe tbody tr th:only-of-type {\n",
       "        vertical-align: middle;\n",
       "    }\n",
       "\n",
       "    .dataframe tbody tr th {\n",
       "        vertical-align: top;\n",
       "    }\n",
       "\n",
       "    .dataframe thead th {\n",
       "        text-align: right;\n",
       "    }\n",
       "</style>\n",
       "<table border=\"1\" class=\"dataframe\">\n",
       "  <thead>\n",
       "    <tr style=\"text-align: right;\">\n",
       "      <th></th>\n",
       "      <th>movie id</th>\n",
       "      <th>genre</th>\n",
       "      <th>year</th>\n",
       "      <th>gender</th>\n",
       "      <th>actor name</th>\n",
       "    </tr>\n",
       "  </thead>\n",
       "  <tbody>\n",
       "    <tr>\n",
       "      <th>0</th>\n",
       "      <td>169</td>\n",
       "      <td>Science Fiction</td>\n",
       "      <td>1990</td>\n",
       "      <td>Male</td>\n",
       "      <td>Kevin Peter Hall</td>\n",
       "    </tr>\n",
       "    <tr>\n",
       "      <th>1</th>\n",
       "      <td>169</td>\n",
       "      <td>Action</td>\n",
       "      <td>1990</td>\n",
       "      <td>Male</td>\n",
       "      <td>Kevin Peter Hall</td>\n",
       "    </tr>\n",
       "    <tr>\n",
       "      <th>2</th>\n",
       "      <td>169</td>\n",
       "      <td>Thriller</td>\n",
       "      <td>1990</td>\n",
       "      <td>Male</td>\n",
       "      <td>Kevin Peter Hall</td>\n",
       "    </tr>\n",
       "    <tr>\n",
       "      <th>3</th>\n",
       "      <td>162</td>\n",
       "      <td>Fantasy</td>\n",
       "      <td>1990</td>\n",
       "      <td>Male</td>\n",
       "      <td>Johnny Depp</td>\n",
       "    </tr>\n",
       "    <tr>\n",
       "      <th>4</th>\n",
       "      <td>162</td>\n",
       "      <td>Drama</td>\n",
       "      <td>1990</td>\n",
       "      <td>Male</td>\n",
       "      <td>Johnny Depp</td>\n",
       "    </tr>\n",
       "  </tbody>\n",
       "</table>\n",
       "</div>"
      ],
      "text/plain": [
       "   movie id            genre  year gender        actor name\n",
       "0       169  Science Fiction  1990   Male  Kevin Peter Hall\n",
       "1       169           Action  1990   Male  Kevin Peter Hall\n",
       "2       169         Thriller  1990   Male  Kevin Peter Hall\n",
       "3       162          Fantasy  1990   Male       Johnny Depp\n",
       "4       162            Drama  1990   Male       Johnny Depp"
      ]
     },
     "execution_count": 10,
     "metadata": {},
     "output_type": "execute_result"
    }
   ],
   "source": [
    "cast_genre_df = pd.merge(movie_genre[[\"movie id\", \"genre\", \"year\"]], \n",
    "                         cast[[\"movie id\", \"gender\", \"actor name\"]], \n",
    "                         on='movie id', how='left')\n",
    "cast_genre_df.head()"
   ]
  },
  {
   "cell_type": "code",
   "execution_count": 11,
   "metadata": {},
   "outputs": [
    {
     "data": {
      "text/html": [
       "<div>\n",
       "<style scoped>\n",
       "    .dataframe tbody tr th:only-of-type {\n",
       "        vertical-align: middle;\n",
       "    }\n",
       "\n",
       "    .dataframe tbody tr th {\n",
       "        vertical-align: top;\n",
       "    }\n",
       "\n",
       "    .dataframe thead th {\n",
       "        text-align: right;\n",
       "    }\n",
       "</style>\n",
       "<table border=\"1\" class=\"dataframe\">\n",
       "  <thead>\n",
       "    <tr style=\"text-align: right;\">\n",
       "      <th></th>\n",
       "      <th>genre</th>\n",
       "      <th>gender</th>\n",
       "      <th>count</th>\n",
       "    </tr>\n",
       "  </thead>\n",
       "  <tbody>\n",
       "    <tr>\n",
       "      <th>0</th>\n",
       "      <td>Action</td>\n",
       "      <td>Female</td>\n",
       "      <td>139</td>\n",
       "    </tr>\n",
       "    <tr>\n",
       "      <th>1</th>\n",
       "      <td>Action</td>\n",
       "      <td>Male</td>\n",
       "      <td>828</td>\n",
       "    </tr>\n",
       "    <tr>\n",
       "      <th>2</th>\n",
       "      <td>Adventure</td>\n",
       "      <td>Female</td>\n",
       "      <td>117</td>\n",
       "    </tr>\n",
       "    <tr>\n",
       "      <th>3</th>\n",
       "      <td>Adventure</td>\n",
       "      <td>Male</td>\n",
       "      <td>576</td>\n",
       "    </tr>\n",
       "    <tr>\n",
       "      <th>4</th>\n",
       "      <td>Animation</td>\n",
       "      <td>Female</td>\n",
       "      <td>99</td>\n",
       "    </tr>\n",
       "  </tbody>\n",
       "</table>\n",
       "</div>"
      ],
      "text/plain": [
       "       genre  gender  count\n",
       "0     Action  Female    139\n",
       "1     Action    Male    828\n",
       "2  Adventure  Female    117\n",
       "3  Adventure    Male    576\n",
       "4  Animation  Female     99"
      ]
     },
     "execution_count": 11,
     "metadata": {},
     "output_type": "execute_result"
    }
   ],
   "source": [
    "cast_genre_grouped = cast_genre_df.groupby([\"genre\",\"gender\"])\n",
    "\n",
    "gender_genre_analysis = cast_genre_grouped[\"gender\"].count().reset_index(name=\"count\")\n",
    "gender_genre_analysis_df = pd.DataFrame(gender_genre_analysis)\n",
    "gender_genre_analysis_df.head()"
   ]
  },
  {
   "cell_type": "code",
   "execution_count": 12,
   "metadata": {},
   "outputs": [],
   "source": [
    "genre_pivot = pd.pivot_table(gender_genre_analysis_df, index=[\"genre\"], columns = \"gender\", values = \"count\")"
   ]
  },
  {
   "cell_type": "code",
   "execution_count": 13,
   "metadata": {},
   "outputs": [
    {
     "data": {
      "image/png": "[encoded data removed]",
      "text/plain": [
       "<Figure size 720x504 with 1 Axes>"
      ]
     },
     "metadata": {},
     "output_type": "display_data"
    }
   ],
   "source": [
    "genre_pivot.plot.bar(stacked=True, color = colors, figsize=(10,7))\n",
    "plt.title(\"Genre of movies with Female vs Male Lead Actor\")\n",
    "plt.xlabel(\"Genre\")\n",
    "plt.ylabel(\"Number of Movies - Lead Actor's gender wise\")\n",
    "plt.legend(loc=\"best\")\n",
    "plt.savefig(\"Resources/Movies gender analysis by genre.png\")\n",
    "plt.show()"
   ]
  },
  {
   "cell_type": "code",
   "execution_count": 14,
   "metadata": {},
   "outputs": [],
   "source": [
    "genre_pivot_percent  = genre_pivot.div(genre_pivot.sum(1), axis=0)"
   ]
  },
  {
   "cell_type": "code",
   "execution_count": 15,
   "metadata": {},
   "outputs": [
    {
     "data": {
      "image/png": "[encoded data removed]",
      "text/plain": [
       "<Figure size 720x504 with 1 Axes>"
      ]
     },
     "metadata": {},
     "output_type": "display_data"
    }
   ],
   "source": [
    "genre_pivot_percent.plot.bar(stacked=True, color = colors, figsize=(10,7))\n",
    "plt.title(\"Genre of movies with Female vs Male Lead Actor (Percent)\")\n",
    "plt.xlabel(\"Genre\")\n",
    "plt.ylabel(\"Percent of Movies - Lead Actor's gender wise\")\n",
    "plt.legend(loc='lower left',  bbox_to_anchor=(1.0, 0.5), title =\"Gender of the Lead Actor\")\n",
    "plt.savefig(\"Resources/Percent gender analysis by genre.png\", bbox_inches='tight')\n",
    "plt.show()"
   ]
  },
  {
   "cell_type": "code",
   "execution_count": null,
   "metadata": {},
   "outputs": [],
   "source": [
    "# Establish bins for decades\n",
    "\n",
    "decade_bins = [1989, 1999, 2009, 2019]\n",
    "decade_names = [\"1990s\",\"2000s\", \"2010s\"]"
   ]
  },
  {
   "cell_type": "code",
   "execution_count": null,
   "metadata": {},
   "outputs": [],
   "source": []
  }
 ],
 "metadata": {
  "kernelspec": {
   "display_name": "Python 3",
   "language": "python",
   "name": "python3"
  },
  "language_info": {
   "codemirror_mode": {
    "name": "ipython",
    "version": 3
   },
   "file_extension": ".py",
   "mimetype": "text/x-python",
   "name": "python",
   "nbconvert_exporter": "python",
   "pygments_lexer": "ipython3",
   "version": "3.6.5"
  }
 },
 "nbformat": 4,
 "nbformat_minor": 2
}
