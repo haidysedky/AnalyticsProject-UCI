{
 "cells": [
  {
   "cell_type": "code",
   "execution_count": 71,
   "metadata": {},
   "outputs": [],
   "source": [
    "%matplotlib inline\n",
    "import pandas as pd\n",
    "import numpy as np\n",
    "import matplotlib.pyplot as plt\n",
    "import matplotlib.pyplot as plt\n",
    "import matplotlib\n",
    "\n",
    "matplotlib.style.use('ggplot')\n",
    "\n",
    "import requests\n",
    "import json\n",
    "import time\n",
    "from datetime import datetime\n",
    "from pprint import pprint\n",
    "from config import api_key"
   ]
  },
  {
   "cell_type": "code",
   "execution_count": 2,
   "metadata": {},
   "outputs": [],
   "source": [
    "file1 = \"Resources/Most popular 100 movies.csv\"\n",
    "file2 = \"Resources/Cast_100_popular_movies.csv\"\n",
    "file3 = \"Resources/Genre list.csv\"\n",
    "file4 = \"Resources/100 popular with genre.csv\"\n",
    "file5= \"Resources/Lead actors info.csv\""
   ]
  },
  {
   "cell_type": "code",
   "execution_count": 3,
   "metadata": {},
   "outputs": [],
   "source": [
    "movie = pd.read_csv(file1, index_col=0)\n",
    "cast = pd.read_csv(file2,  index_col=0)\n",
    "genre_list = pd.read_csv(file3)\n",
    "movie_genre = pd.read_csv(file4, index_col=0)\n",
    "actor_info = pd.read_csv(file5,index_col=0)"
   ]
  },
  {
   "cell_type": "code",
   "execution_count": 4,
   "metadata": {},
   "outputs": [
    {
     "data": {
      "text/html": [
       "<div>\n",
       "<style scoped>\n",
       "    .dataframe tbody tr th:only-of-type {\n",
       "        vertical-align: middle;\n",
       "    }\n",
       "\n",
       "    .dataframe tbody tr th {\n",
       "        vertical-align: top;\n",
       "    }\n",
       "\n",
       "    .dataframe thead th {\n",
       "        text-align: right;\n",
       "    }\n",
       "</style>\n",
       "<table border=\"1\" class=\"dataframe\">\n",
       "  <thead>\n",
       "    <tr style=\"text-align: right;\">\n",
       "      <th></th>\n",
       "      <th>actor id</th>\n",
       "      <th>actor name</th>\n",
       "      <th>character</th>\n",
       "      <th>gender</th>\n",
       "      <th>id</th>\n",
       "      <th>movie release year</th>\n",
       "      <th>title</th>\n",
       "    </tr>\n",
       "  </thead>\n",
       "  <tbody>\n",
       "    <tr>\n",
       "      <th>0</th>\n",
       "      <td>417</td>\n",
       "      <td>Ginnifer Goodwin</td>\n",
       "      <td>Judy Hopps (voice)</td>\n",
       "      <td>Female</td>\n",
       "      <td>269149</td>\n",
       "      <td>2016</td>\n",
       "      <td>Zootopia</td>\n",
       "    </tr>\n",
       "    <tr>\n",
       "      <th>1</th>\n",
       "      <td>10859</td>\n",
       "      <td>Ryan Reynolds</td>\n",
       "      <td>Wade Wilson / Deadpool</td>\n",
       "      <td>Male</td>\n",
       "      <td>293660</td>\n",
       "      <td>2016</td>\n",
       "      <td>Deadpool</td>\n",
       "    </tr>\n",
       "    <tr>\n",
       "      <th>2</th>\n",
       "      <td>71580</td>\n",
       "      <td>Benedict Cumberbatch</td>\n",
       "      <td>Stephen Strange / Doctor Strange</td>\n",
       "      <td>Male</td>\n",
       "      <td>284052</td>\n",
       "      <td>2016</td>\n",
       "      <td>Doctor Strange</td>\n",
       "    </tr>\n",
       "    <tr>\n",
       "      <th>3</th>\n",
       "      <td>16828</td>\n",
       "      <td>Chris Evans</td>\n",
       "      <td>Steve Rogers / Captain America</td>\n",
       "      <td>Male</td>\n",
       "      <td>271110</td>\n",
       "      <td>2016</td>\n",
       "      <td>Captain America: Civil War</td>\n",
       "    </tr>\n",
       "    <tr>\n",
       "      <th>4</th>\n",
       "      <td>880</td>\n",
       "      <td>Ben Affleck</td>\n",
       "      <td>Bruce Wayne / Batman</td>\n",
       "      <td>Male</td>\n",
       "      <td>209112</td>\n",
       "      <td>2016</td>\n",
       "      <td>Batman v Superman: Dawn of Justice</td>\n",
       "    </tr>\n",
       "  </tbody>\n",
       "</table>\n",
       "</div>"
      ],
      "text/plain": [
       "   actor id            actor name                         character  gender  \\\n",
       "0       417      Ginnifer Goodwin                Judy Hopps (voice)  Female   \n",
       "1     10859         Ryan Reynolds            Wade Wilson / Deadpool    Male   \n",
       "2     71580  Benedict Cumberbatch  Stephen Strange / Doctor Strange    Male   \n",
       "3     16828           Chris Evans    Steve Rogers / Captain America    Male   \n",
       "4       880           Ben Affleck              Bruce Wayne / Batman    Male   \n",
       "\n",
       "       id  movie release year                               title  \n",
       "0  269149                2016                            Zootopia  \n",
       "1  293660                2016                            Deadpool  \n",
       "2  284052                2016                      Doctor Strange  \n",
       "3  271110                2016          Captain America: Civil War  \n",
       "4  209112                2016  Batman v Superman: Dawn of Justice  "
      ]
     },
     "execution_count": 4,
     "metadata": {},
     "output_type": "execute_result"
    }
   ],
   "source": [
    "cast.head()"
   ]
  },
  {
   "cell_type": "code",
   "execution_count": 84,
   "metadata": {},
   "outputs": [
    {
     "data": {
      "text/html": [
       "<div>\n",
       "<style scoped>\n",
       "    .dataframe tbody tr th:only-of-type {\n",
       "        vertical-align: middle;\n",
       "    }\n",
       "\n",
       "    .dataframe tbody tr th {\n",
       "        vertical-align: top;\n",
       "    }\n",
       "\n",
       "    .dataframe thead th {\n",
       "        text-align: right;\n",
       "    }\n",
       "</style>\n",
       "<table border=\"1\" class=\"dataframe\">\n",
       "  <thead>\n",
       "    <tr style=\"text-align: right;\">\n",
       "      <th></th>\n",
       "      <th>movie release year</th>\n",
       "      <th>gender</th>\n",
       "      <th>count</th>\n",
       "    </tr>\n",
       "  </thead>\n",
       "  <tbody>\n",
       "    <tr>\n",
       "      <th>0</th>\n",
       "      <td>2016</td>\n",
       "      <td>Female</td>\n",
       "      <td>35</td>\n",
       "    </tr>\n",
       "    <tr>\n",
       "      <th>1</th>\n",
       "      <td>2016</td>\n",
       "      <td>Male</td>\n",
       "      <td>62</td>\n",
       "    </tr>\n",
       "    <tr>\n",
       "      <th>2</th>\n",
       "      <td>2016</td>\n",
       "      <td>Unknown</td>\n",
       "      <td>3</td>\n",
       "    </tr>\n",
       "    <tr>\n",
       "      <th>3</th>\n",
       "      <td>2017</td>\n",
       "      <td>Female</td>\n",
       "      <td>24</td>\n",
       "    </tr>\n",
       "    <tr>\n",
       "      <th>4</th>\n",
       "      <td>2017</td>\n",
       "      <td>Male</td>\n",
       "      <td>76</td>\n",
       "    </tr>\n",
       "  </tbody>\n",
       "</table>\n",
       "</div>"
      ],
      "text/plain": [
       "   movie release year   gender  count\n",
       "0                2016   Female     35\n",
       "1                2016     Male     62\n",
       "2                2016  Unknown      3\n",
       "3                2017   Female     24\n",
       "4                2017     Male     76"
      ]
     },
     "execution_count": 84,
     "metadata": {},
     "output_type": "execute_result"
    }
   ],
   "source": [
    "gender_year = cast[[\"actor name\", \"gender\", \"movie release year\"]]\n",
    "\n",
    "#gender_year_analysis = gender_year_analysis[gender_year_analysis[\"gender\"] != 'Unknown']\n",
    "\n",
    "gender_year_grouped = gender_year.groupby([\"movie release year\", \"gender\"])\n",
    "\n",
    "gender_year_analysis = gender_year_grouped[\"gender\"].count().reset_index(name=\"count\")\n",
    "gender_year_analysis_df = pd.DataFrame(gender_year_analysis)\n",
    "gender_year_analysis_df"
   ]
  },
  {
   "cell_type": "markdown",
   "metadata": {},
   "source": [
    "### Plot Graph - Gender analysis by years"
   ]
  },
  {
   "cell_type": "code",
   "execution_count": 62,
   "metadata": {},
   "outputs": [],
   "source": [
    "gender_pivot = pd.pivot_table(gender_year_analysis_df, index=[\"movie release year\"], columns = \"gender\", values = \"count\")"
   ]
  },
  {
   "cell_type": "code",
   "execution_count": 83,
   "metadata": {},
   "outputs": [
    {
     "data": {
      "image/png": "[encoded data removed]",
      "text/plain": [
       "<Figure size 720x504 with 1 Axes>"
      ]
     },
     "metadata": {},
     "output_type": "display_data"
    }
   ],
   "source": [
    "colors = [\"orange\", \"skyblue\", \"grey\"]\n",
    "gender_pivot.plot.bar(stacked=True, color = colors, figsize=(10,7))\n",
    "plt.title(\"Number of popular movies with Female vs Male Lead Actor\")\n",
    "plt.xlabel(\"Years\")\n",
    "plt.ylabel(\"Number of Movies\")\n",
    "plt.legend(loc=\"best\")\n",
    "plt.savefig(\"Resources/Are movies male centric.png\")\n",
    "plt.show()"
   ]
  },
  {
   "cell_type": "markdown",
   "metadata": {},
   "source": [
    "### Gender analysis by genre\n"
   ]
  },
  {
   "cell_type": "code",
   "execution_count": 91,
   "metadata": {},
   "outputs": [
    {
     "data": {
      "text/html": [
       "<div>\n",
       "<style scoped>\n",
       "    .dataframe tbody tr th:only-of-type {\n",
       "        vertical-align: middle;\n",
       "    }\n",
       "\n",
       "    .dataframe tbody tr th {\n",
       "        vertical-align: top;\n",
       "    }\n",
       "\n",
       "    .dataframe thead th {\n",
       "        text-align: right;\n",
       "    }\n",
       "</style>\n",
       "<table border=\"1\" class=\"dataframe\">\n",
       "  <thead>\n",
       "    <tr style=\"text-align: right;\">\n",
       "      <th></th>\n",
       "      <th>actor id</th>\n",
       "      <th>actor name</th>\n",
       "      <th>character</th>\n",
       "      <th>gender</th>\n",
       "      <th>id</th>\n",
       "      <th>movie release year</th>\n",
       "      <th>title</th>\n",
       "    </tr>\n",
       "  </thead>\n",
       "  <tbody>\n",
       "    <tr>\n",
       "      <th>0</th>\n",
       "      <td>417</td>\n",
       "      <td>Ginnifer Goodwin</td>\n",
       "      <td>Judy Hopps (voice)</td>\n",
       "      <td>Female</td>\n",
       "      <td>269149</td>\n",
       "      <td>2016</td>\n",
       "      <td>Zootopia</td>\n",
       "    </tr>\n",
       "    <tr>\n",
       "      <th>1</th>\n",
       "      <td>10859</td>\n",
       "      <td>Ryan Reynolds</td>\n",
       "      <td>Wade Wilson / Deadpool</td>\n",
       "      <td>Male</td>\n",
       "      <td>293660</td>\n",
       "      <td>2016</td>\n",
       "      <td>Deadpool</td>\n",
       "    </tr>\n",
       "    <tr>\n",
       "      <th>2</th>\n",
       "      <td>71580</td>\n",
       "      <td>Benedict Cumberbatch</td>\n",
       "      <td>Stephen Strange / Doctor Strange</td>\n",
       "      <td>Male</td>\n",
       "      <td>284052</td>\n",
       "      <td>2016</td>\n",
       "      <td>Doctor Strange</td>\n",
       "    </tr>\n",
       "    <tr>\n",
       "      <th>3</th>\n",
       "      <td>16828</td>\n",
       "      <td>Chris Evans</td>\n",
       "      <td>Steve Rogers / Captain America</td>\n",
       "      <td>Male</td>\n",
       "      <td>271110</td>\n",
       "      <td>2016</td>\n",
       "      <td>Captain America: Civil War</td>\n",
       "    </tr>\n",
       "    <tr>\n",
       "      <th>4</th>\n",
       "      <td>880</td>\n",
       "      <td>Ben Affleck</td>\n",
       "      <td>Bruce Wayne / Batman</td>\n",
       "      <td>Male</td>\n",
       "      <td>209112</td>\n",
       "      <td>2016</td>\n",
       "      <td>Batman v Superman: Dawn of Justice</td>\n",
       "    </tr>\n",
       "  </tbody>\n",
       "</table>\n",
       "</div>"
      ],
      "text/plain": [
       "   actor id            actor name                         character  gender  \\\n",
       "0       417      Ginnifer Goodwin                Judy Hopps (voice)  Female   \n",
       "1     10859         Ryan Reynolds            Wade Wilson / Deadpool    Male   \n",
       "2     71580  Benedict Cumberbatch  Stephen Strange / Doctor Strange    Male   \n",
       "3     16828           Chris Evans    Steve Rogers / Captain America    Male   \n",
       "4       880           Ben Affleck              Bruce Wayne / Batman    Male   \n",
       "\n",
       "       id  movie release year                               title  \n",
       "0  269149                2016                            Zootopia  \n",
       "1  293660                2016                            Deadpool  \n",
       "2  284052                2016                      Doctor Strange  \n",
       "3  271110                2016          Captain America: Civil War  \n",
       "4  209112                2016  Batman v Superman: Dawn of Justice  "
      ]
     },
     "execution_count": 91,
     "metadata": {},
     "output_type": "execute_result"
    }
   ],
   "source": [
    "cast.head()"
   ]
  },
  {
   "cell_type": "code",
   "execution_count": 89,
   "metadata": {},
   "outputs": [],
   "source": [
    "cast_renamed = cast.rename(columns = {\"id\": \"movie id\"})"
   ]
  },
  {
   "cell_type": "code",
   "execution_count": 95,
   "metadata": {},
   "outputs": [
    {
     "data": {
      "text/html": [
       "<div>\n",
       "<style scoped>\n",
       "    .dataframe tbody tr th:only-of-type {\n",
       "        vertical-align: middle;\n",
       "    }\n",
       "\n",
       "    .dataframe tbody tr th {\n",
       "        vertical-align: top;\n",
       "    }\n",
       "\n",
       "    .dataframe thead th {\n",
       "        text-align: right;\n",
       "    }\n",
       "</style>\n",
       "<table border=\"1\" class=\"dataframe\">\n",
       "  <thead>\n",
       "    <tr style=\"text-align: right;\">\n",
       "      <th></th>\n",
       "      <th>movie id</th>\n",
       "      <th>genre</th>\n",
       "      <th>gender</th>\n",
       "      <th>actor name</th>\n",
       "    </tr>\n",
       "  </thead>\n",
       "  <tbody>\n",
       "    <tr>\n",
       "      <th>0</th>\n",
       "      <td>269149</td>\n",
       "      <td>Animation</td>\n",
       "      <td>Female</td>\n",
       "      <td>Ginnifer Goodwin</td>\n",
       "    </tr>\n",
       "    <tr>\n",
       "      <th>1</th>\n",
       "      <td>269149</td>\n",
       "      <td>Adventure</td>\n",
       "      <td>Female</td>\n",
       "      <td>Ginnifer Goodwin</td>\n",
       "    </tr>\n",
       "    <tr>\n",
       "      <th>2</th>\n",
       "      <td>269149</td>\n",
       "      <td>Family</td>\n",
       "      <td>Female</td>\n",
       "      <td>Ginnifer Goodwin</td>\n",
       "    </tr>\n",
       "    <tr>\n",
       "      <th>3</th>\n",
       "      <td>269149</td>\n",
       "      <td>Comedy</td>\n",
       "      <td>Female</td>\n",
       "      <td>Ginnifer Goodwin</td>\n",
       "    </tr>\n",
       "    <tr>\n",
       "      <th>4</th>\n",
       "      <td>293660</td>\n",
       "      <td>Action</td>\n",
       "      <td>Male</td>\n",
       "      <td>Ryan Reynolds</td>\n",
       "    </tr>\n",
       "  </tbody>\n",
       "</table>\n",
       "</div>"
      ],
      "text/plain": [
       "   movie id      genre  gender        actor name\n",
       "0    269149  Animation  Female  Ginnifer Goodwin\n",
       "1    269149  Adventure  Female  Ginnifer Goodwin\n",
       "2    269149     Family  Female  Ginnifer Goodwin\n",
       "3    269149     Comedy  Female  Ginnifer Goodwin\n",
       "4    293660     Action    Male     Ryan Reynolds"
      ]
     },
     "execution_count": 95,
     "metadata": {},
     "output_type": "execute_result"
    }
   ],
   "source": [
    "cast_genre_df = pd.merge(movie_genre[[\"movie id\", \"genre\"]], \n",
    "                         cast_renamed[[\"movie id\", \"gender\", \"actor name\"]], \n",
    "                         on='movie id', how='left')\n",
    "cast_genre_df.head()"
   ]
  },
  {
   "cell_type": "code",
   "execution_count": 99,
   "metadata": {},
   "outputs": [
    {
     "data": {
      "text/html": [
       "<div>\n",
       "<style scoped>\n",
       "    .dataframe tbody tr th:only-of-type {\n",
       "        vertical-align: middle;\n",
       "    }\n",
       "\n",
       "    .dataframe tbody tr th {\n",
       "        vertical-align: top;\n",
       "    }\n",
       "\n",
       "    .dataframe thead th {\n",
       "        text-align: right;\n",
       "    }\n",
       "</style>\n",
       "<table border=\"1\" class=\"dataframe\">\n",
       "  <thead>\n",
       "    <tr style=\"text-align: right;\">\n",
       "      <th></th>\n",
       "      <th>genre</th>\n",
       "      <th>gender</th>\n",
       "      <th>count</th>\n",
       "    </tr>\n",
       "  </thead>\n",
       "  <tbody>\n",
       "    <tr>\n",
       "      <th>0</th>\n",
       "      <td>Action</td>\n",
       "      <td>Female</td>\n",
       "      <td>15</td>\n",
       "    </tr>\n",
       "    <tr>\n",
       "      <th>1</th>\n",
       "      <td>Action</td>\n",
       "      <td>Male</td>\n",
       "      <td>69</td>\n",
       "    </tr>\n",
       "    <tr>\n",
       "      <th>2</th>\n",
       "      <td>Adventure</td>\n",
       "      <td>Female</td>\n",
       "      <td>20</td>\n",
       "    </tr>\n",
       "    <tr>\n",
       "      <th>3</th>\n",
       "      <td>Adventure</td>\n",
       "      <td>Male</td>\n",
       "      <td>53</td>\n",
       "    </tr>\n",
       "    <tr>\n",
       "      <th>4</th>\n",
       "      <td>Adventure</td>\n",
       "      <td>Unknown</td>\n",
       "      <td>2</td>\n",
       "    </tr>\n",
       "  </tbody>\n",
       "</table>\n",
       "</div>"
      ],
      "text/plain": [
       "       genre   gender  count\n",
       "0     Action   Female     15\n",
       "1     Action     Male     69\n",
       "2  Adventure   Female     20\n",
       "3  Adventure     Male     53\n",
       "4  Adventure  Unknown      2"
      ]
     },
     "execution_count": 99,
     "metadata": {},
     "output_type": "execute_result"
    }
   ],
   "source": [
    "cast_genre_grouped = cast_genre_df.groupby([\"genre\",\"gender\"])\n",
    "\n",
    "gender_genre_analysis = cast_genre_grouped[\"gender\"].count().reset_index(name=\"count\")\n",
    "gender_genre_analysis_df = pd.DataFrame(gender_genre_analysis)\n",
    "gender_genre_analysis_df.head()"
   ]
  },
  {
   "cell_type": "code",
   "execution_count": 100,
   "metadata": {},
   "outputs": [],
   "source": [
    "genre_pivot = pd.pivot_table(gender_genre_analysis_df, index=[\"genre\"], columns = \"gender\", values = \"count\")"
   ]
  },
  {
   "cell_type": "code",
   "execution_count": 103,
   "metadata": {},
   "outputs": [
    {
     "ename": "NameError",
     "evalue": "name 'barWidth' is not defined",
     "output_type": "error",
     "traceback": [
      "\u001b[1;31m---------------------------------------------------------------------------\u001b[0m",
      "\u001b[1;31mNameError\u001b[0m                                 Traceback (most recent call last)",
      "\u001b[1;32m<ipython-input-103-fa467524bd30>\u001b[0m in \u001b[0;36m<module>\u001b[1;34m()\u001b[0m\n\u001b[1;32m----> 1\u001b[1;33m \u001b[0mgenre_pivot\u001b[0m\u001b[1;33m.\u001b[0m\u001b[0mplot\u001b[0m\u001b[1;33m.\u001b[0m\u001b[0mbar\u001b[0m\u001b[1;33m(\u001b[0m\u001b[0mstacked\u001b[0m\u001b[1;33m=\u001b[0m\u001b[1;32mTrue\u001b[0m\u001b[1;33m,\u001b[0m \u001b[0mcolor\u001b[0m \u001b[1;33m=\u001b[0m \u001b[0mcolors\u001b[0m\u001b[1;33m,\u001b[0m \u001b[0mwidth\u001b[0m\u001b[1;33m=\u001b[0m\u001b[0mbarWidth\u001b[0m\u001b[1;33m,\u001b[0m \u001b[0mfigsize\u001b[0m\u001b[1;33m=\u001b[0m\u001b[1;33m(\u001b[0m\u001b[1;36m10\u001b[0m\u001b[1;33m,\u001b[0m\u001b[1;36m7\u001b[0m\u001b[1;33m)\u001b[0m\u001b[1;33m)\u001b[0m\u001b[1;33m\u001b[0m\u001b[0m\n\u001b[0m\u001b[0;32m      2\u001b[0m \u001b[0mplt\u001b[0m\u001b[1;33m.\u001b[0m\u001b[0mtitle\u001b[0m\u001b[1;33m(\u001b[0m\u001b[1;34m\"Genre of movies with Female vs Male Lead Actor\"\u001b[0m\u001b[1;33m)\u001b[0m\u001b[1;33m\u001b[0m\u001b[0m\n\u001b[0;32m      3\u001b[0m \u001b[0mplt\u001b[0m\u001b[1;33m.\u001b[0m\u001b[0mxlabel\u001b[0m\u001b[1;33m(\u001b[0m\u001b[1;34m\"Genre\"\u001b[0m\u001b[1;33m)\u001b[0m\u001b[1;33m\u001b[0m\u001b[0m\n\u001b[0;32m      4\u001b[0m \u001b[0mplt\u001b[0m\u001b[1;33m.\u001b[0m\u001b[0mylabel\u001b[0m\u001b[1;33m(\u001b[0m\u001b[1;34m\"Number of Movies - Lead Actor's gender wise\"\u001b[0m\u001b[1;33m)\u001b[0m\u001b[1;33m\u001b[0m\u001b[0m\n\u001b[0;32m      5\u001b[0m \u001b[0mplt\u001b[0m\u001b[1;33m.\u001b[0m\u001b[0mlegend\u001b[0m\u001b[1;33m(\u001b[0m\u001b[0mloc\u001b[0m\u001b[1;33m=\u001b[0m\u001b[1;34m\"best\"\u001b[0m\u001b[1;33m)\u001b[0m\u001b[1;33m\u001b[0m\u001b[0m\n",
      "\u001b[1;31mNameError\u001b[0m: name 'barWidth' is not defined"
     ]
    }
   ],
   "source": [
    "genre_pivot.plot.bar(stacked=True, color = colors, figsize=(10,7))\n",
    "plt.title(\"Genre of movies with Female vs Male Lead Actor\")\n",
    "plt.xlabel(\"Genre\")\n",
    "plt.ylabel(\"Number of Movies - Lead Actor's gender wise\")\n",
    "plt.legend(loc=\"best\")\n",
    "plt.savefig(\"Resources/Movies gender analysis by genre.png\")\n",
    "plt.show()"
   ]
  },
  {
   "cell_type": "code",
   "execution_count": null,
   "metadata": {},
   "outputs": [],
   "source": []
  }
 ],
 "metadata": {
  "kernelspec": {
   "display_name": "Python 3",
   "language": "python",
   "name": "python3"
  },
  "language_info": {
   "codemirror_mode": {
    "name": "ipython",
    "version": 3
   },
   "file_extension": ".py",
   "mimetype": "text/x-python",
   "name": "python",
   "nbconvert_exporter": "python",
   "pygments_lexer": "ipython3",
   "version": "3.6.5"
  }
 },
 "nbformat": 4,
 "nbformat_minor": 2
}
