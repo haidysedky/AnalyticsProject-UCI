{
 "cells": [
  {
   "cell_type": "code",
   "execution_count": 1,
   "metadata": {},
   "outputs": [],
   "source": [
    "import pandas as pd\n",
    "import requests\n",
    "import json\n",
    "import time\n",
    "from datetime import datetime\n",
    "from pprint import pprint\n",
    "from config import api_key"
   ]
  },
  {
   "cell_type": "code",
   "execution_count": 2,
   "metadata": {},
   "outputs": [],
   "source": [
    "url = \"https://api.themoviedb.org/3/\"\n",
    "page_no=1"
   ]
  },
  {
   "cell_type": "markdown",
   "metadata": {},
   "source": [
    "## Most Popular 20 Movies every year between 2010 and 2018\n"
   ]
  },
  {
   "cell_type": "code",
   "execution_count": 6,
   "metadata": {},
   "outputs": [],
   "source": [
    "# URL to discover most popular action & adventure movies between 2010 and 2018\n",
    "\n",
    "AA_popular_20 = []\n",
    "\n",
    "for year in range(2010,2018):\n",
    "    # url\n",
    "    discover_url = url + \"discover/movie?api_key=\"+ api_key \\\n",
    "    + \"&language=en-US&sort_by=popularity.desc&include_adult=false&include_video=false&page=\" \\\n",
    "    + str(page_no) + \"&year=\" + str(year)\n",
    "    \n",
    "    popular_20_data = requests.get(discover_url).json()\n",
    "\n",
    "    for film in popular_20_data['results']:\n",
    "        AA_popular_20.append({\"id\": film['id'], \n",
    "                              \"title\": film['title'], \n",
    "                              \"genre_ids\": film[\"genre_ids\"],\n",
    "                              \"year\": year})"
   ]
  },
  {
   "cell_type": "code",
   "execution_count": 7,
   "metadata": {},
   "outputs": [
    {
     "data": {
      "text/html": [
       "<div>\n",
       "<style scoped>\n",
       "    .dataframe tbody tr th:only-of-type {\n",
       "        vertical-align: middle;\n",
       "    }\n",
       "\n",
       "    .dataframe tbody tr th {\n",
       "        vertical-align: top;\n",
       "    }\n",
       "\n",
       "    .dataframe thead th {\n",
       "        text-align: right;\n",
       "    }\n",
       "</style>\n",
       "<table border=\"1\" class=\"dataframe\">\n",
       "  <thead>\n",
       "    <tr style=\"text-align: right;\">\n",
       "      <th></th>\n",
       "      <th>genre_ids</th>\n",
       "      <th>id</th>\n",
       "      <th>title</th>\n",
       "      <th>year</th>\n",
       "    </tr>\n",
       "  </thead>\n",
       "  <tbody>\n",
       "    <tr>\n",
       "      <th>0</th>\n",
       "      <td>[28, 53, 878, 9648, 12]</td>\n",
       "      <td>27205</td>\n",
       "      <td>Inception</td>\n",
       "      <td>2010</td>\n",
       "    </tr>\n",
       "    <tr>\n",
       "      <th>1</th>\n",
       "      <td>[12, 14, 28]</td>\n",
       "      <td>120</td>\n",
       "      <td>The Lord of the Rings: The Fellowship of the Ring</td>\n",
       "      <td>2010</td>\n",
       "    </tr>\n",
       "    <tr>\n",
       "      <th>2</th>\n",
       "      <td>[12, 14, 28]</td>\n",
       "      <td>121</td>\n",
       "      <td>The Lord of the Rings: The Two Towers</td>\n",
       "      <td>2010</td>\n",
       "    </tr>\n",
       "    <tr>\n",
       "      <th>3</th>\n",
       "      <td>[12, 14, 28]</td>\n",
       "      <td>122</td>\n",
       "      <td>The Lord of the Rings: The Return of the King</td>\n",
       "      <td>2010</td>\n",
       "    </tr>\n",
       "    <tr>\n",
       "      <th>4</th>\n",
       "      <td>[12, 14, 10751]</td>\n",
       "      <td>12444</td>\n",
       "      <td>Harry Potter and the Deathly Hallows: Part 1</td>\n",
       "      <td>2010</td>\n",
       "    </tr>\n",
       "  </tbody>\n",
       "</table>\n",
       "</div>"
      ],
      "text/plain": [
       "                 genre_ids     id  \\\n",
       "0  [28, 53, 878, 9648, 12]  27205   \n",
       "1             [12, 14, 28]    120   \n",
       "2             [12, 14, 28]    121   \n",
       "3             [12, 14, 28]    122   \n",
       "4          [12, 14, 10751]  12444   \n",
       "\n",
       "                                               title  year  \n",
       "0                                          Inception  2010  \n",
       "1  The Lord of the Rings: The Fellowship of the Ring  2010  \n",
       "2              The Lord of the Rings: The Two Towers  2010  \n",
       "3      The Lord of the Rings: The Return of the King  2010  \n",
       "4       Harry Potter and the Deathly Hallows: Part 1  2010  "
      ]
     },
     "execution_count": 7,
     "metadata": {},
     "output_type": "execute_result"
    }
   ],
   "source": [
    "AA_popular_20_pd = pd.DataFrame.from_dict(AA_popular_20)\n",
    "AA_popular_20_pd.head()"
   ]
  },
  {
   "cell_type": "markdown",
   "metadata": {},
   "source": [
    "# Casting info in these movies\n",
    "### 5 most prominent actors"
   ]
  },
  {
   "cell_type": "code",
   "execution_count": 8,
   "metadata": {},
   "outputs": [],
   "source": [
    "AA_popular_20_pd.to_csv(\"Most popular movies 2010-2018.csv\")"
   ]
  },
  {
   "cell_type": "code",
   "execution_count": 15,
   "metadata": {},
   "outputs": [],
   "source": [
    "# For every popular movie in the list, find the cast info for 5 most prominent characters\n",
    "AA_pop_20_cast = []\n",
    "for i in range(len(AA_popular_20_pd[\"id\"])):\n",
    "    credits_url = url + \"movie/\" + str(AA_popular_20_pd[\"id\"][i]) + \"/credits?api_key=\" + api_key\n",
    "\n",
    "    casting_data = requests.get(credits_url).json()\n",
    "    for j in range(len(casting_data[\"cast\"])):\n",
    "        if j==0:\n",
    "            AA_pop_20_cast.append({\"id\": AA_popular_20_pd[\"id\"][i], \n",
    "                                  \"title\": AA_popular_20_pd[\"title\"][i],\n",
    "                                  \"character\": casting_data[\"cast\"][j][\"character\"],\n",
    "                                  \"actor id\": casting_data[\"cast\"][j][\"id\"],\n",
    "                                  \"actor name\": casting_data[\"cast\"][j][\"name\"],\n",
    "                                  \"gender code\": casting_data[\"cast\"][j][\"gender\"],\n",
    "                                 \"Prominent\": True})\n",
    "        else:\n",
    "            AA_pop_20_cast.append({\"id\": AA_popular_20_pd[\"id\"][i], \n",
    "                                  \"title\": AA_popular_20_pd[\"title\"][i],\n",
    "                                  \"character\": casting_data[\"cast\"][j][\"character\"],\n",
    "                                  \"actor id\": casting_data[\"cast\"][j][\"id\"],\n",
    "                                  \"actor name\": casting_data[\"cast\"][j][\"name\"],\n",
    "                                  \"gender code\": casting_data[\"cast\"][j][\"gender\"],\n",
    "                                 \"Prominent\": False})                      \n",
    "\n",
    "\n",
    "                   \n"
   ]
  },
  {
   "cell_type": "code",
   "execution_count": 16,
   "metadata": {},
   "outputs": [
    {
     "data": {
      "text/html": [
       "<div>\n",
       "<style scoped>\n",
       "    .dataframe tbody tr th:only-of-type {\n",
       "        vertical-align: middle;\n",
       "    }\n",
       "\n",
       "    .dataframe tbody tr th {\n",
       "        vertical-align: top;\n",
       "    }\n",
       "\n",
       "    .dataframe thead th {\n",
       "        text-align: right;\n",
       "    }\n",
       "</style>\n",
       "<table border=\"1\" class=\"dataframe\">\n",
       "  <thead>\n",
       "    <tr style=\"text-align: right;\">\n",
       "      <th></th>\n",
       "      <th>Prominent</th>\n",
       "      <th>actor id</th>\n",
       "      <th>actor name</th>\n",
       "      <th>character</th>\n",
       "      <th>gender code</th>\n",
       "      <th>id</th>\n",
       "      <th>title</th>\n",
       "    </tr>\n",
       "  </thead>\n",
       "  <tbody>\n",
       "    <tr>\n",
       "      <th>0</th>\n",
       "      <td>True</td>\n",
       "      <td>6193</td>\n",
       "      <td>Leonardo DiCaprio</td>\n",
       "      <td>Dom Cobb</td>\n",
       "      <td>2</td>\n",
       "      <td>27205</td>\n",
       "      <td>Inception</td>\n",
       "    </tr>\n",
       "    <tr>\n",
       "      <th>1</th>\n",
       "      <td>False</td>\n",
       "      <td>24045</td>\n",
       "      <td>Joseph Gordon-Levitt</td>\n",
       "      <td>Arthur</td>\n",
       "      <td>2</td>\n",
       "      <td>27205</td>\n",
       "      <td>Inception</td>\n",
       "    </tr>\n",
       "    <tr>\n",
       "      <th>2</th>\n",
       "      <td>False</td>\n",
       "      <td>27578</td>\n",
       "      <td>Ellen Page</td>\n",
       "      <td>Ariadne</td>\n",
       "      <td>1</td>\n",
       "      <td>27205</td>\n",
       "      <td>Inception</td>\n",
       "    </tr>\n",
       "    <tr>\n",
       "      <th>3</th>\n",
       "      <td>False</td>\n",
       "      <td>2524</td>\n",
       "      <td>Tom Hardy</td>\n",
       "      <td>Eames</td>\n",
       "      <td>2</td>\n",
       "      <td>27205</td>\n",
       "      <td>Inception</td>\n",
       "    </tr>\n",
       "    <tr>\n",
       "      <th>4</th>\n",
       "      <td>False</td>\n",
       "      <td>3899</td>\n",
       "      <td>Ken Watanabe</td>\n",
       "      <td>Saito</td>\n",
       "      <td>2</td>\n",
       "      <td>27205</td>\n",
       "      <td>Inception</td>\n",
       "    </tr>\n",
       "  </tbody>\n",
       "</table>\n",
       "</div>"
      ],
      "text/plain": [
       "   Prominent  actor id            actor name character  gender code     id  \\\n",
       "0       True      6193     Leonardo DiCaprio  Dom Cobb            2  27205   \n",
       "1      False     24045  Joseph Gordon-Levitt    Arthur            2  27205   \n",
       "2      False     27578            Ellen Page   Ariadne            1  27205   \n",
       "3      False      2524             Tom Hardy     Eames            2  27205   \n",
       "4      False      3899          Ken Watanabe     Saito            2  27205   \n",
       "\n",
       "       title  \n",
       "0  Inception  \n",
       "1  Inception  \n",
       "2  Inception  \n",
       "3  Inception  \n",
       "4  Inception  "
      ]
     },
     "execution_count": 16,
     "metadata": {},
     "output_type": "execute_result"
    }
   ],
   "source": [
    "AA_pop_20_cast_pd = pd.DataFrame.from_dict(AA_pop_20_cast)\n",
    "AA_pop_20_cast_pd.head()"
   ]
  },
  {
   "cell_type": "markdown",
   "metadata": {},
   "source": [
    "### Birthday (age) info"
   ]
  },
  {
   "cell_type": "markdown",
   "metadata": {},
   "source": [
    "#### Function for calculating age"
   ]
  },
  {
   "cell_type": "code",
   "execution_count": 17,
   "metadata": {},
   "outputs": [],
   "source": [
    "# Save to csv file\n",
    "AA_pop_20_cast_pd.to_csv(\"Cast_20_popular_movies.csv\")"
   ]
  },
  {
   "cell_type": "code",
   "execution_count": 18,
   "metadata": {},
   "outputs": [],
   "source": [
    "def calculate_age(birth_date):\n",
    "    today = datetime.today()\n",
    "    dob = datetime.strptime(birth_date, \"%Y-%m-%d\")\n",
    "    extra_year = 1 if ((today.month, today.day) < (dob.month, dob.day)) else 0\n",
    "    return today.year - dob.year - extra_year"
   ]
  },
  {
   "cell_type": "markdown",
   "metadata": {},
   "source": [
    "* Pulling info on cast"
   ]
  },
  {
   "cell_type": "code",
   "execution_count": 19,
   "metadata": {},
   "outputs": [
    {
     "ename": "TypeError",
     "evalue": "strptime() argument 1 must be str, not None",
     "output_type": "error",
     "traceback": [
      "\u001b[1;31m---------------------------------------------------------------------------\u001b[0m",
      "\u001b[1;31mTypeError\u001b[0m                                 Traceback (most recent call last)",
      "\u001b[1;32m<ipython-input-19-ef9b095371b3>\u001b[0m in \u001b[0;36m<module>\u001b[1;34m()\u001b[0m\n\u001b[0;32m      4\u001b[0m     \u001b[1;31m#time.sleep(2)\u001b[0m\u001b[1;33m\u001b[0m\u001b[1;33m\u001b[0m\u001b[0m\n\u001b[0;32m      5\u001b[0m     \u001b[0mperson_data\u001b[0m \u001b[1;33m=\u001b[0m \u001b[0mrequests\u001b[0m\u001b[1;33m.\u001b[0m\u001b[0mget\u001b[0m\u001b[1;33m(\u001b[0m\u001b[0mperson_url\u001b[0m\u001b[1;33m)\u001b[0m\u001b[1;33m.\u001b[0m\u001b[0mjson\u001b[0m\u001b[1;33m(\u001b[0m\u001b[1;33m)\u001b[0m\u001b[1;33m\u001b[0m\u001b[0m\n\u001b[1;32m----> 6\u001b[1;33m     \u001b[0mage\u001b[0m\u001b[1;33m.\u001b[0m\u001b[0mappend\u001b[0m\u001b[1;33m(\u001b[0m\u001b[0mcalculate_age\u001b[0m\u001b[1;33m(\u001b[0m\u001b[0mperson_data\u001b[0m\u001b[1;33m[\u001b[0m\u001b[1;34m\"birthday\"\u001b[0m\u001b[1;33m]\u001b[0m\u001b[1;33m)\u001b[0m\u001b[1;33m)\u001b[0m\u001b[1;33m\u001b[0m\u001b[0m\n\u001b[0m",
      "\u001b[1;32m<ipython-input-18-47327c6a4b1f>\u001b[0m in \u001b[0;36mcalculate_age\u001b[1;34m(birth_date)\u001b[0m\n\u001b[0;32m      1\u001b[0m \u001b[1;32mdef\u001b[0m \u001b[0mcalculate_age\u001b[0m\u001b[1;33m(\u001b[0m\u001b[0mbirth_date\u001b[0m\u001b[1;33m)\u001b[0m\u001b[1;33m:\u001b[0m\u001b[1;33m\u001b[0m\u001b[0m\n\u001b[0;32m      2\u001b[0m     \u001b[0mtoday\u001b[0m \u001b[1;33m=\u001b[0m \u001b[0mdatetime\u001b[0m\u001b[1;33m.\u001b[0m\u001b[0mtoday\u001b[0m\u001b[1;33m(\u001b[0m\u001b[1;33m)\u001b[0m\u001b[1;33m\u001b[0m\u001b[0m\n\u001b[1;32m----> 3\u001b[1;33m     \u001b[0mdob\u001b[0m \u001b[1;33m=\u001b[0m \u001b[0mdatetime\u001b[0m\u001b[1;33m.\u001b[0m\u001b[0mstrptime\u001b[0m\u001b[1;33m(\u001b[0m\u001b[0mbirth_date\u001b[0m\u001b[1;33m,\u001b[0m \u001b[1;34m\"%Y-%m-%d\"\u001b[0m\u001b[1;33m)\u001b[0m\u001b[1;33m\u001b[0m\u001b[0m\n\u001b[0m\u001b[0;32m      4\u001b[0m     \u001b[0mextra_year\u001b[0m \u001b[1;33m=\u001b[0m \u001b[1;36m1\u001b[0m \u001b[1;32mif\u001b[0m \u001b[1;33m(\u001b[0m\u001b[1;33m(\u001b[0m\u001b[0mtoday\u001b[0m\u001b[1;33m.\u001b[0m\u001b[0mmonth\u001b[0m\u001b[1;33m,\u001b[0m \u001b[0mtoday\u001b[0m\u001b[1;33m.\u001b[0m\u001b[0mday\u001b[0m\u001b[1;33m)\u001b[0m \u001b[1;33m<\u001b[0m \u001b[1;33m(\u001b[0m\u001b[0mdob\u001b[0m\u001b[1;33m.\u001b[0m\u001b[0mmonth\u001b[0m\u001b[1;33m,\u001b[0m \u001b[0mdob\u001b[0m\u001b[1;33m.\u001b[0m\u001b[0mday\u001b[0m\u001b[1;33m)\u001b[0m\u001b[1;33m)\u001b[0m \u001b[1;32melse\u001b[0m \u001b[1;36m0\u001b[0m\u001b[1;33m\u001b[0m\u001b[0m\n\u001b[0;32m      5\u001b[0m     \u001b[1;32mreturn\u001b[0m \u001b[0mtoday\u001b[0m\u001b[1;33m.\u001b[0m\u001b[0myear\u001b[0m \u001b[1;33m-\u001b[0m \u001b[0mdob\u001b[0m\u001b[1;33m.\u001b[0m\u001b[0myear\u001b[0m \u001b[1;33m-\u001b[0m \u001b[0mextra_year\u001b[0m\u001b[1;33m\u001b[0m\u001b[0m\n",
      "\u001b[1;31mTypeError\u001b[0m: strptime() argument 1 must be str, not None"
     ]
    }
   ],
   "source": [
    "age = []\n",
    "for actor_id in AA_pop_20_cast_pd[\"actor id\"]:\n",
    "    person_url = url + \"person/\" + str(actor_id) + \"?api_key=\" + api_key + \"&language=en-US\"\n",
    "    #time.sleep(2)\n",
    "    person_data = requests.get(person_url).json()\n",
    "    age.append(calculate_age(person_data[\"birthday\"]))"
   ]
  },
  {
   "cell_type": "code",
   "execution_count": null,
   "metadata": {},
   "outputs": [],
   "source": [
    "AA_pop_20_cast_pd[\"age\"] = age\n",
    "AA_pop_20_cast_pd.head()"
   ]
  },
  {
   "cell_type": "code",
   "execution_count": null,
   "metadata": {},
   "outputs": [],
   "source": [
    "gender_grpd_cast = AA_pop_20_cast_pd.groupby(\"gender code\")\n",
    "average_age_gender = gender_grpd_cast[\"age\"].mean()\n",
    "average_age_gender"
   ]
  },
  {
   "cell_type": "code",
   "execution_count": null,
   "metadata": {},
   "outputs": [],
   "source": []
  },
  {
   "cell_type": "markdown",
   "metadata": {},
   "source": [
    "# Movies in Theaters - Now Playing "
   ]
  },
  {
   "cell_type": "code",
   "execution_count": null,
   "metadata": {},
   "outputs": [],
   "source": [
    "# URL for Now Playing movies\n",
    "now_playing_url = url + \"movie/now_playing?api_key=\" + api_key + \"&language=en-US\" + \"&page=\" + str(page_no)"
   ]
  },
  {
   "cell_type": "code",
   "execution_count": null,
   "metadata": {},
   "outputs": [],
   "source": [
    "in_theatre = requests.get(now_playing_url).json()"
   ]
  },
  {
   "cell_type": "code",
   "execution_count": null,
   "metadata": {},
   "outputs": [],
   "source": [
    "movies_in_theatres = []\n",
    "for dt in in_theatre['results']:\n",
    "    movies_in_theatres.append({\"id\": dt['id'], \"title\": dt['title']})"
   ]
  },
  {
   "cell_type": "code",
   "execution_count": null,
   "metadata": {},
   "outputs": [],
   "source": [
    "movies_in_theatres_pd = pd.DataFrame.from_dict(movies_in_theatres)\n",
    "movies_in_theatres_pd.head()"
   ]
  },
  {
   "cell_type": "code",
   "execution_count": null,
   "metadata": {},
   "outputs": [],
   "source": [
    "#for i in range(len(movies_in_theatres_pd[\"id\"])):\n",
    "credits_url = url + str(movies_in_theatres_pd[\"id\"][0]) + \"movie/credits?api_key=\" + api_key"
   ]
  },
  {
   "cell_type": "code",
   "execution_count": null,
   "metadata": {},
   "outputs": [],
   "source": [
    "credits = requests.get(credits_url).json()\n",
    "pprint(credits)"
   ]
  },
  {
   "cell_type": "code",
   "execution_count": null,
   "metadata": {},
   "outputs": [],
   "source": []
  }
 ],
 "metadata": {
  "kernelspec": {
   "display_name": "Python [default]",
   "language": "python",
   "name": "python3"
  },
  "language_info": {
   "codemirror_mode": {
    "name": "ipython",
    "version": 3
   },
   "file_extension": ".py",
   "mimetype": "text/x-python",
   "name": "python",
   "nbconvert_exporter": "python",
   "pygments_lexer": "ipython3",
   "version": "3.6.5"
  }
 },
 "nbformat": 4,
 "nbformat_minor": 2
}
