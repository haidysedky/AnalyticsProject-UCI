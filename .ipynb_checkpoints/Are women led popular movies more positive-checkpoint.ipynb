{
 "cells": [
  {
   "cell_type": "code",
   "execution_count": 1,
   "metadata": {},
   "outputs": [],
   "source": [
    "%matplotlib notebook\n",
    "import pandas as pd\n",
    "import matplotlib.pyplot as plt\n",
    "import requests\n",
    "import json\n",
    "from vaderSentiment.vaderSentiment import SentimentIntensityAnalyzer\n",
    "analyzer = SentimentIntensityAnalyzer()"
   ]
  },
  {
   "cell_type": "code",
   "execution_count": 2,
   "metadata": {},
   "outputs": [
    {
     "data": {
      "text/html": [
       "<div>\n",
       "<style scoped>\n",
       "    .dataframe tbody tr th:only-of-type {\n",
       "        vertical-align: middle;\n",
       "    }\n",
       "\n",
       "    .dataframe tbody tr th {\n",
       "        vertical-align: top;\n",
       "    }\n",
       "\n",
       "    .dataframe thead th {\n",
       "        text-align: right;\n",
       "    }\n",
       "</style>\n",
       "<table border=\"1\" class=\"dataframe\">\n",
       "  <thead>\n",
       "    <tr style=\"text-align: right;\">\n",
       "      <th></th>\n",
       "      <th>movie id</th>\n",
       "      <th>overview</th>\n",
       "      <th>popularity rank</th>\n",
       "      <th>release year</th>\n",
       "      <th>title</th>\n",
       "      <th>budget</th>\n",
       "      <th>revenue</th>\n",
       "      <th>actor id</th>\n",
       "      <th>actor name</th>\n",
       "      <th>character</th>\n",
       "      <th>gender</th>\n",
       "    </tr>\n",
       "  </thead>\n",
       "  <tbody>\n",
       "    <tr>\n",
       "      <th>1</th>\n",
       "      <td>169</td>\n",
       "      <td>Ten years after a band of mercenaries first ba...</td>\n",
       "      <td>2</td>\n",
       "      <td>1990</td>\n",
       "      <td>Predator 2</td>\n",
       "      <td>35000000</td>\n",
       "      <td>57120318</td>\n",
       "      <td>1109.0</td>\n",
       "      <td>Kevin Peter Hall</td>\n",
       "      <td>The Predator</td>\n",
       "      <td>Male</td>\n",
       "    </tr>\n",
       "    <tr>\n",
       "      <th>2</th>\n",
       "      <td>162</td>\n",
       "      <td>A small suburban town receives a visit from a ...</td>\n",
       "      <td>3</td>\n",
       "      <td>1990</td>\n",
       "      <td>Edward Scissorhands</td>\n",
       "      <td>20000000</td>\n",
       "      <td>53000000</td>\n",
       "      <td>85.0</td>\n",
       "      <td>Johnny Depp</td>\n",
       "      <td>Edward Scissorhands</td>\n",
       "      <td>Male</td>\n",
       "    </tr>\n",
       "  </tbody>\n",
       "</table>\n",
       "</div>"
      ],
      "text/plain": [
       "   movie id                                           overview  \\\n",
       "1       169  Ten years after a band of mercenaries first ba...   \n",
       "2       162  A small suburban town receives a visit from a ...   \n",
       "\n",
       "   popularity rank  release year                title    budget   revenue  \\\n",
       "1                2          1990           Predator 2  35000000  57120318   \n",
       "2                3          1990  Edward Scissorhands  20000000  53000000   \n",
       "\n",
       "   actor id        actor name            character gender  \n",
       "1    1109.0  Kevin Peter Hall         The Predator   Male  \n",
       "2      85.0       Johnny Depp  Edward Scissorhands   Male  "
      ]
     },
     "execution_count": 2,
     "metadata": {},
     "output_type": "execute_result"
    }
   ],
   "source": [
    "popular_df = pd.read_csv('Resources/Popular movies.csv', index_col=0)\n",
    "popular_df.head(2)"
   ]
  },
  {
   "cell_type": "code",
   "execution_count": 3,
   "metadata": {},
   "outputs": [],
   "source": [
    "popular_df = popular_df.loc[(popular_df[\"release year\"] >= 2017) , :]\n",
    "popular_male_df = popular_df.loc[popular_df[\"gender\"]==\"Male\", :]\n",
    "popular_female_df = popular_df.loc[popular_df[\"gender\"]==\"Female\", :]"
   ]
  },
  {
   "cell_type": "code",
   "execution_count": 6,
   "metadata": {},
   "outputs": [
    {
     "data": {
      "text/plain": [
       "-0.23986999999999997"
      ]
     },
     "execution_count": 6,
     "metadata": {},
     "output_type": "execute_result"
    }
   ],
   "source": [
    "popular_male_df = popular_male_df.sort_values(by=\"popularity rank\",ascending=True).head(10)\n",
    "male_movies_sentiment=[]\n",
    "year=[]\n",
    "\n",
    "for index, row in popular_male_df.iterrows():\n",
    "    results = analyzer.polarity_scores(row[\"overview\"])\n",
    "    male_movies_sentiment.append(results[\"compound\"])\n",
    "\n",
    "male_movies_avg_sentiment = sum(male_movies_sentiment)/len(male_movies_sentiment)\n",
    "male_movies_avg_sentiment"
   ]
  },
  {
   "cell_type": "code",
   "execution_count": 7,
   "metadata": {},
   "outputs": [
    {
     "data": {
      "text/plain": [
       "[-0.8519,\n",
       " -0.7845,\n",
       " 0.0772,\n",
       " 0.2023,\n",
       " 0.5423,\n",
       " -0.9274,\n",
       " -0.7096,\n",
       " -0.0503,\n",
       " 0.0516,\n",
       " 0.0516]"
      ]
     },
     "execution_count": 7,
     "metadata": {},
     "output_type": "execute_result"
    }
   ],
   "source": [
    "male_movies_sentiment"
   ]
  },
  {
   "cell_type": "code",
   "execution_count": 8,
   "metadata": {},
   "outputs": [
    {
     "data": {
      "text/plain": [
       "-0.24933"
      ]
     },
     "execution_count": 8,
     "metadata": {},
     "output_type": "execute_result"
    }
   ],
   "source": [
    "popular_female_df = popular_female_df.sort_values(by=\"popularity rank\",ascending=True).head(10)\n",
    "female_movies_sentiment=[]\n",
    "for index, row in popular_female_df.iterrows():\n",
    "    results = analyzer.polarity_scores(row[\"overview\"])\n",
    "    female_movies_sentiment.append(results[\"compound\"])\n",
    "female_movies_avg_sentiment = sum(female_movies_sentiment)/len(female_movies_sentiment)\n",
    "female_movies_avg_sentiment\n",
    "        "
   ]
  },
  {
   "cell_type": "code",
   "execution_count": null,
   "metadata": {},
   "outputs": [],
   "source": []
  }
 ],
 "metadata": {
  "kernelspec": {
   "display_name": "Python [conda env:PythonData]",
   "language": "python",
   "name": "conda-env-PythonData-py"
  },
  "language_info": {
   "codemirror_mode": {
    "name": "ipython",
    "version": 3
   },
   "file_extension": ".py",
   "mimetype": "text/x-python",
   "name": "python",
   "nbconvert_exporter": "python",
   "pygments_lexer": "ipython3",
   "version": "3.6.5"
  }
 },
 "nbformat": 4,
 "nbformat_minor": 2
}
