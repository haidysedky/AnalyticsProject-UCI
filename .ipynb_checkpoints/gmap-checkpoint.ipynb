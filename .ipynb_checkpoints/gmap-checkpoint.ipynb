{
 "cells": [
  {
   "cell_type": "code",
   "execution_count": 1,
   "metadata": {},
   "outputs": [],
   "source": [
    "%matplotlib inline\n",
    "import pandas as pd\n",
    "import numpy as np\n",
    "import matplotlib.pyplot as plt\n",
    "import matplotlib.pyplot as plt\n",
    "import matplotlib\n",
    "\n",
    "matplotlib.style.use('ggplot')\n",
    "\n",
    "import requests\n",
    "import json\n",
    "import time\n",
    "from datetime import datetime\n",
    "from pprint import pprint\n",
    "import gmaps\n",
    "\n",
    "from config import api_key, gkey\n",
    "\n",
    "# Configure gmaps\n",
    "gmaps.configure(api_key=gkey)"
   ]
  },
  {
   "cell_type": "code",
   "execution_count": 2,
   "metadata": {},
   "outputs": [
    {
     "data": {
      "text/html": [
       "<div>\n",
       "<style scoped>\n",
       "    .dataframe tbody tr th:only-of-type {\n",
       "        vertical-align: middle;\n",
       "    }\n",
       "\n",
       "    .dataframe tbody tr th {\n",
       "        vertical-align: top;\n",
       "    }\n",
       "\n",
       "    .dataframe thead th {\n",
       "        text-align: right;\n",
       "    }\n",
       "</style>\n",
       "<table border=\"1\" class=\"dataframe\">\n",
       "  <thead>\n",
       "    <tr style=\"text-align: right;\">\n",
       "      <th></th>\n",
       "      <th>actor id</th>\n",
       "      <th>actor name</th>\n",
       "      <th>character</th>\n",
       "      <th>gender</th>\n",
       "      <th>id</th>\n",
       "      <th>movie release year</th>\n",
       "      <th>title</th>\n",
       "      <th>age</th>\n",
       "      <th>place of birth</th>\n",
       "    </tr>\n",
       "  </thead>\n",
       "  <tbody>\n",
       "    <tr>\n",
       "      <th>0</th>\n",
       "      <td>417</td>\n",
       "      <td>Ginnifer Goodwin</td>\n",
       "      <td>Judy Hopps (voice)</td>\n",
       "      <td>Female</td>\n",
       "      <td>269149</td>\n",
       "      <td>2016</td>\n",
       "      <td>Zootopia</td>\n",
       "      <td>38</td>\n",
       "      <td>Memphis, Tennessee, USA</td>\n",
       "    </tr>\n",
       "    <tr>\n",
       "      <th>1</th>\n",
       "      <td>71580</td>\n",
       "      <td>Benedict Cumberbatch</td>\n",
       "      <td>Stephen Strange / Doctor Strange</td>\n",
       "      <td>Male</td>\n",
       "      <td>284052</td>\n",
       "      <td>2016</td>\n",
       "      <td>Doctor Strange</td>\n",
       "      <td>40</td>\n",
       "      <td>Hammersmith, London, England, UK</td>\n",
       "    </tr>\n",
       "    <tr>\n",
       "      <th>2</th>\n",
       "      <td>16828</td>\n",
       "      <td>Chris Evans</td>\n",
       "      <td>Steve Rogers / Captain America</td>\n",
       "      <td>Male</td>\n",
       "      <td>271110</td>\n",
       "      <td>2016</td>\n",
       "      <td>Captain America: Civil War</td>\n",
       "      <td>35</td>\n",
       "      <td>Sudbury, Massachusetts, USA</td>\n",
       "    </tr>\n",
       "    <tr>\n",
       "      <th>3</th>\n",
       "      <td>31167</td>\n",
       "      <td>Elizabeth Mitchell</td>\n",
       "      <td>Senator Charlie Roan</td>\n",
       "      <td>Female</td>\n",
       "      <td>316727</td>\n",
       "      <td>2016</td>\n",
       "      <td>The Purge: Election Year</td>\n",
       "      <td>46</td>\n",
       "      <td>Los Angeles, California, U.S.</td>\n",
       "    </tr>\n",
       "    <tr>\n",
       "      <th>4</th>\n",
       "      <td>37632</td>\n",
       "      <td>Eddie Redmayne</td>\n",
       "      <td>Newt Scamander</td>\n",
       "      <td>Male</td>\n",
       "      <td>259316</td>\n",
       "      <td>2016</td>\n",
       "      <td>Fantastic Beasts and Where to Find Them</td>\n",
       "      <td>34</td>\n",
       "      <td>London, England, UK</td>\n",
       "    </tr>\n",
       "  </tbody>\n",
       "</table>\n",
       "</div>"
      ],
      "text/plain": [
       "   actor id            actor name                         character  gender  \\\n",
       "0       417      Ginnifer Goodwin                Judy Hopps (voice)  Female   \n",
       "1     71580  Benedict Cumberbatch  Stephen Strange / Doctor Strange    Male   \n",
       "2     16828           Chris Evans    Steve Rogers / Captain America    Male   \n",
       "3     31167    Elizabeth Mitchell              Senator Charlie Roan  Female   \n",
       "4     37632        Eddie Redmayne                    Newt Scamander    Male   \n",
       "\n",
       "       id  movie release year                                    title  age  \\\n",
       "0  269149                2016                                 Zootopia   38   \n",
       "1  284052                2016                           Doctor Strange   40   \n",
       "2  271110                2016               Captain America: Civil War   35   \n",
       "3  316727                2016                 The Purge: Election Year   46   \n",
       "4  259316                2016  Fantastic Beasts and Where to Find Them   34   \n",
       "\n",
       "                     place of birth  \n",
       "0           Memphis, Tennessee, USA  \n",
       "1  Hammersmith, London, England, UK  \n",
       "2       Sudbury, Massachusetts, USA  \n",
       "3     Los Angeles, California, U.S.  \n",
       "4               London, England, UK  "
      ]
     },
     "execution_count": 2,
     "metadata": {},
     "output_type": "execute_result"
    }
   ],
   "source": [
    "file5= \"Resources/Lead actors info.csv\"\n",
    "actor_info = pd.read_csv(file5,index_col=0)\n",
    "actor_info.dropna()\n",
    "actor_info.head()"
   ]
  },
  {
   "cell_type": "code",
   "execution_count": 3,
   "metadata": {},
   "outputs": [
    {
     "data": {
      "text/html": [
       "<div>\n",
       "<style scoped>\n",
       "    .dataframe tbody tr th:only-of-type {\n",
       "        vertical-align: middle;\n",
       "    }\n",
       "\n",
       "    .dataframe tbody tr th {\n",
       "        vertical-align: top;\n",
       "    }\n",
       "\n",
       "    .dataframe thead th {\n",
       "        text-align: right;\n",
       "    }\n",
       "</style>\n",
       "<table border=\"1\" class=\"dataframe\">\n",
       "  <thead>\n",
       "    <tr style=\"text-align: right;\">\n",
       "      <th></th>\n",
       "      <th>actor name</th>\n",
       "      <th>place of birth</th>\n",
       "    </tr>\n",
       "  </thead>\n",
       "  <tbody>\n",
       "    <tr>\n",
       "      <th>0</th>\n",
       "      <td>Ginnifer Goodwin</td>\n",
       "      <td>Memphis, Tennessee, USA</td>\n",
       "    </tr>\n",
       "    <tr>\n",
       "      <th>1</th>\n",
       "      <td>Benedict Cumberbatch</td>\n",
       "      <td>Hammersmith, London, England, UK</td>\n",
       "    </tr>\n",
       "    <tr>\n",
       "      <th>2</th>\n",
       "      <td>Chris Evans</td>\n",
       "      <td>Sudbury, Massachusetts, USA</td>\n",
       "    </tr>\n",
       "    <tr>\n",
       "      <th>3</th>\n",
       "      <td>Elizabeth Mitchell</td>\n",
       "      <td>Los Angeles, California, U.S.</td>\n",
       "    </tr>\n",
       "    <tr>\n",
       "      <th>4</th>\n",
       "      <td>Eddie Redmayne</td>\n",
       "      <td>London, England, UK</td>\n",
       "    </tr>\n",
       "  </tbody>\n",
       "</table>\n",
       "</div>"
      ],
      "text/plain": [
       "             actor name                    place of birth\n",
       "0      Ginnifer Goodwin           Memphis, Tennessee, USA\n",
       "1  Benedict Cumberbatch  Hammersmith, London, England, UK\n",
       "2           Chris Evans       Sudbury, Massachusetts, USA\n",
       "3    Elizabeth Mitchell     Los Angeles, California, U.S.\n",
       "4        Eddie Redmayne               London, England, UK"
      ]
     },
     "execution_count": 3,
     "metadata": {},
     "output_type": "execute_result"
    }
   ],
   "source": [
    "actor_place_subset = actor_info[[\"actor name\", \"place of birth\"]]\n",
    "actor_place_subset.head()"
   ]
  },
  {
   "cell_type": "code",
   "execution_count": 11,
   "metadata": {},
   "outputs": [
    {
     "data": {
      "text/plain": [
       "['Tennessee', 'USA']"
      ]
     },
     "execution_count": 11,
     "metadata": {},
     "output_type": "execute_result"
    }
   ],
   "source": [
    "actor_place_subset['place of birth'][0].split(', ')[-2:]"
   ]
  },
  {
   "cell_type": "code",
   "execution_count": 24,
   "metadata": {},
   "outputs": [],
   "source": [
    "location = []\n",
    "\n",
    "#actor_place_subset['location'] = actor_place_subset['place_split']\n",
    "for i in range(len(actor_place_subset[\"actor name\"]):\n",
    "        \n",
    "        location.append({\"actor name\": row[1]\n",
    "#            \"State\": row['place of birth'].str.split(', ')[-2:],\n",
    "#            \"Country\": row['place of birth'].str.split(', ')[:-1]           \n",
    "        })"
   ]
  },
  {
   "cell_type": "code",
   "execution_count": 25,
   "metadata": {},
   "outputs": [
    {
     "data": {
      "text/html": [
       "<div>\n",
       "<style scoped>\n",
       "    .dataframe tbody tr th:only-of-type {\n",
       "        vertical-align: middle;\n",
       "    }\n",
       "\n",
       "    .dataframe tbody tr th {\n",
       "        vertical-align: top;\n",
       "    }\n",
       "\n",
       "    .dataframe thead th {\n",
       "        text-align: right;\n",
       "    }\n",
       "</style>\n",
       "<table border=\"1\" class=\"dataframe\">\n",
       "  <thead>\n",
       "    <tr style=\"text-align: right;\">\n",
       "      <th></th>\n",
       "      <th>actor name</th>\n",
       "    </tr>\n",
       "  </thead>\n",
       "  <tbody>\n",
       "    <tr>\n",
       "      <th>0</th>\n",
       "      <td>actor name                 Ginnifer Goodwin\n",
       "pl...</td>\n",
       "    </tr>\n",
       "    <tr>\n",
       "      <th>1</th>\n",
       "      <td>actor name                      Benedict Cumbe...</td>\n",
       "    </tr>\n",
       "    <tr>\n",
       "      <th>2</th>\n",
       "      <td>actor name                          Chris Evan...</td>\n",
       "    </tr>\n",
       "    <tr>\n",
       "      <th>3</th>\n",
       "      <td>actor name                     Elizabeth Mitch...</td>\n",
       "    </tr>\n",
       "    <tr>\n",
       "      <th>4</th>\n",
       "      <td>actor name               Eddie Redmayne\n",
       "place ...</td>\n",
       "    </tr>\n",
       "  </tbody>\n",
       "</table>\n",
       "</div>"
      ],
      "text/plain": [
       "                                          actor name\n",
       "0  actor name                 Ginnifer Goodwin\n",
       "pl...\n",
       "1  actor name                      Benedict Cumbe...\n",
       "2  actor name                          Chris Evan...\n",
       "3  actor name                     Elizabeth Mitch...\n",
       "4  actor name               Eddie Redmayne\n",
       "place ..."
      ]
     },
     "execution_count": 25,
     "metadata": {},
     "output_type": "execute_result"
    }
   ],
   "source": [
    "actor_location = pd.DataFrame.from_dict(location)\n",
    "actor_location.head()"
   ]
  },
  {
   "cell_type": "code",
   "execution_count": null,
   "metadata": {},
   "outputs": [],
   "source": [
    "actor_place_subset['place_split'][0][1:]"
   ]
  },
  {
   "cell_type": "code",
   "execution_count": null,
   "metadata": {},
   "outputs": [],
   "source": [
    "l_info=[]\n",
    "for j in range(len(actor_place_subset[\"actor name\"])):\n",
    "          \n",
    "        l_info.append({\"actor name\": actor_place_subset['actor name'][j], \n",
    "                       \"location\": actor_place_subset['place_split'][j][1:], \n",
    "                        })"
   ]
  },
  {
   "cell_type": "code",
   "execution_count": null,
   "metadata": {},
   "outputs": [],
   "source": [
    "# Plot Heatmap\n",
    "fig = gmaps.figure()\n",
    "\n",
    "# Create heat layer\n",
    "heat_layer = gmaps.heatmap_layer(locations, weights=rating, \n",
    "                                 dissipating=False, max_intensity=10,\n",
    "                                 point_radius=1)\n",
    "\n",
    "\n",
    "# Add layer\n",
    "fig.add_layer(heat_layer)\n",
    "\n",
    "# Display figure\n",
    "fig"
   ]
  }
 ],
 "metadata": {
  "kernelspec": {
   "display_name": "Python 3",
   "language": "python",
   "name": "python3"
  },
  "language_info": {
   "codemirror_mode": {
    "name": "ipython",
    "version": 3
   },
   "file_extension": ".py",
   "mimetype": "text/x-python",
   "name": "python",
   "nbconvert_exporter": "python",
   "pygments_lexer": "ipython3",
   "version": "3.6.5"
  }
 },
 "nbformat": 4,
 "nbformat_minor": 2
}
