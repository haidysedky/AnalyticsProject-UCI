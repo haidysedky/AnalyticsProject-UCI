{
 "cells": [
  {
   "cell_type": "code",
   "execution_count": 1,
   "metadata": {},
   "outputs": [],
   "source": [
    "import pandas as pd\n",
    "import requests\n",
    "import json\n",
    "import time\n",
    "from datetime import datetime\n",
    "from pprint import pprint\n",
    "from config import api_key"
   ]
  },
  {
   "cell_type": "code",
   "execution_count": 2,
   "metadata": {},
   "outputs": [],
   "source": [
    "url = \"https://api.themoviedb.org/3/\""
   ]
  },
  {
   "cell_type": "markdown",
   "metadata": {},
   "source": [
    "## Most Popular 100 Movies of each year between 1970 and 2018\n"
   ]
  },
  {
   "cell_type": "code",
   "execution_count": 3,
   "metadata": {},
   "outputs": [],
   "source": [
    "# URL to discover most popular action & adventure movies between 2010 and 2018\n",
    "\n",
    "popular_100 = []\n",
    "\n",
    "\n",
    "for year in range(1990,2019):\n",
    "    \n",
    "    rank_counter = 1 \n",
    "    \n",
    "    for page in range(1,6): \n",
    "        # url\n",
    "        discover_url = url + \"discover/movie?api_key=\"+ api_key \\\n",
    "        + \"&language=en-US&region=US&sort_by=popularity.desc&include_adult=false&include_video=false&page=\" \\\n",
    "        + str(page) + \"&primary_release_year=\" + str(year)\n",
    "\n",
    "        popular_100_data = requests.get(discover_url).json()\n",
    "        \n",
    "\n",
    "\n",
    "        for movie in popular_100_data['results']:\n",
    "            popular_100.append({\"movie id\": movie['id'], \n",
    "                                \"title\": movie['title'], \n",
    "                                \"genre_ids\": movie[\"genre_ids\"],\n",
    "                                \"year\": year,\n",
    "                               \"overview\": movie['overview'],\n",
    "                               \"popularity rank\": rank_counter})\n",
    "            rank_counter+=1"
   ]
  },
  {
   "cell_type": "code",
   "execution_count": 4,
   "metadata": {},
   "outputs": [
    {
     "data": {
      "text/html": [
       "<div>\n",
       "<style scoped>\n",
       "    .dataframe tbody tr th:only-of-type {\n",
       "        vertical-align: middle;\n",
       "    }\n",
       "\n",
       "    .dataframe tbody tr th {\n",
       "        vertical-align: top;\n",
       "    }\n",
       "\n",
       "    .dataframe thead th {\n",
       "        text-align: right;\n",
       "    }\n",
       "</style>\n",
       "<table border=\"1\" class=\"dataframe\">\n",
       "  <thead>\n",
       "    <tr style=\"text-align: right;\">\n",
       "      <th></th>\n",
       "      <th>genre_ids</th>\n",
       "      <th>movie id</th>\n",
       "      <th>overview</th>\n",
       "      <th>popularity rank</th>\n",
       "      <th>title</th>\n",
       "      <th>year</th>\n",
       "    </tr>\n",
       "  </thead>\n",
       "  <tbody>\n",
       "    <tr>\n",
       "      <th>0</th>\n",
       "      <td>[878, 28, 53]</td>\n",
       "      <td>169</td>\n",
       "      <td>Ten years after a band of mercenaries first ba...</td>\n",
       "      <td>1</td>\n",
       "      <td>Predator 2</td>\n",
       "      <td>1990</td>\n",
       "    </tr>\n",
       "    <tr>\n",
       "      <th>1</th>\n",
       "      <td>[14, 18, 10749]</td>\n",
       "      <td>162</td>\n",
       "      <td>A small suburban town receives a visit from a ...</td>\n",
       "      <td>2</td>\n",
       "      <td>Edward Scissorhands</td>\n",
       "      <td>1990</td>\n",
       "    </tr>\n",
       "    <tr>\n",
       "      <th>2</th>\n",
       "      <td>[28, 53]</td>\n",
       "      <td>1573</td>\n",
       "      <td>John McClane is an off-duty cop gripped with a...</td>\n",
       "      <td>3</td>\n",
       "      <td>Die Hard 2</td>\n",
       "      <td>1990</td>\n",
       "    </tr>\n",
       "    <tr>\n",
       "      <th>3</th>\n",
       "      <td>[10749, 35]</td>\n",
       "      <td>114</td>\n",
       "      <td>When a millionaire wheeler-dealer enters a bus...</td>\n",
       "      <td>4</td>\n",
       "      <td>Pretty Woman</td>\n",
       "      <td>1990</td>\n",
       "    </tr>\n",
       "    <tr>\n",
       "      <th>4</th>\n",
       "      <td>[12, 10751]</td>\n",
       "      <td>71805</td>\n",
       "      <td>A young Norwegian boy in 1850s England goes to...</td>\n",
       "      <td>5</td>\n",
       "      <td>Shipwrecked</td>\n",
       "      <td>1990</td>\n",
       "    </tr>\n",
       "  </tbody>\n",
       "</table>\n",
       "</div>"
      ],
      "text/plain": [
       "         genre_ids  movie id  \\\n",
       "0    [878, 28, 53]       169   \n",
       "1  [14, 18, 10749]       162   \n",
       "2         [28, 53]      1573   \n",
       "3      [10749, 35]       114   \n",
       "4      [12, 10751]     71805   \n",
       "\n",
       "                                            overview  popularity rank  \\\n",
       "0  Ten years after a band of mercenaries first ba...                1   \n",
       "1  A small suburban town receives a visit from a ...                2   \n",
       "2  John McClane is an off-duty cop gripped with a...                3   \n",
       "3  When a millionaire wheeler-dealer enters a bus...                4   \n",
       "4  A young Norwegian boy in 1850s England goes to...                5   \n",
       "\n",
       "                 title  year  \n",
       "0           Predator 2  1990  \n",
       "1  Edward Scissorhands  1990  \n",
       "2           Die Hard 2  1990  \n",
       "3         Pretty Woman  1990  \n",
       "4          Shipwrecked  1990  "
      ]
     },
     "execution_count": 4,
     "metadata": {},
     "output_type": "execute_result"
    }
   ],
   "source": [
    "popular_100_df = pd.DataFrame(popular_100)\n",
    "popular_100_df.head()"
   ]
  },
  {
   "cell_type": "code",
   "execution_count": 5,
   "metadata": {},
   "outputs": [],
   "source": [
    "popular_100_df.to_csv(\"Resources/Most popular 100 movies.csv\")"
   ]
  },
  {
   "cell_type": "markdown",
   "metadata": {},
   "source": [
    "## Genre of these movies "
   ]
  },
  {
   "cell_type": "code",
   "execution_count": 6,
   "metadata": {},
   "outputs": [],
   "source": [
    "genre_url = url + \"genre/movie/list?api_key=\" + api_key+ \"&language=en-US\"\n",
    "\n",
    "genre_list = []\n",
    "genre_data = requests.get(genre_url).json()\n",
    "for genre in genre_data[\"genres\"]:\n",
    "    genre_list.append({\"genre_id\": genre[\"id\"],\n",
    "                       \"genre_name\": genre[\"name\"]})\n",
    "    \n",
    "genre_list_df = pd.DataFrame.from_dict(genre_list).set_index(\"genre_id\")"
   ]
  },
  {
   "cell_type": "code",
   "execution_count": 7,
   "metadata": {},
   "outputs": [],
   "source": [
    "genre_list_df.to_csv(\"Resources/Genre list.csv\")"
   ]
  },
  {
   "cell_type": "code",
   "execution_count": 9,
   "metadata": {},
   "outputs": [],
   "source": [
    "g_info=[]\n",
    "for j in range(len(popular_100_df[\"movie id\"])):\n",
    "    \n",
    "    for i in range(len(popular_100_df[\"genre_ids\"][j])):\n",
    "        \n",
    "        g_info.append({\"title\": popular_100_df['title'][j], \n",
    "                       \"movie id\": popular_100_df['movie id'][j], \n",
    "                       \"year\":  popular_100_df['year'][j],\n",
    "                       \"overview\":  popular_100_df['overview'][j],\n",
    "                       \"genre\": genre_list_df.loc[popular_100_df[\"genre_ids\"][j][i], \"genre_name\"]})"
   ]
  },
  {
   "cell_type": "code",
   "execution_count": 10,
   "metadata": {},
   "outputs": [
    {
     "data": {
      "text/html": [
       "<div>\n",
       "<style scoped>\n",
       "    .dataframe tbody tr th:only-of-type {\n",
       "        vertical-align: middle;\n",
       "    }\n",
       "\n",
       "    .dataframe tbody tr th {\n",
       "        vertical-align: top;\n",
       "    }\n",
       "\n",
       "    .dataframe thead th {\n",
       "        text-align: right;\n",
       "    }\n",
       "</style>\n",
       "<table border=\"1\" class=\"dataframe\">\n",
       "  <thead>\n",
       "    <tr style=\"text-align: right;\">\n",
       "      <th></th>\n",
       "      <th>genre</th>\n",
       "      <th>movie id</th>\n",
       "      <th>overview</th>\n",
       "      <th>title</th>\n",
       "      <th>year</th>\n",
       "    </tr>\n",
       "  </thead>\n",
       "  <tbody>\n",
       "    <tr>\n",
       "      <th>0</th>\n",
       "      <td>Science Fiction</td>\n",
       "      <td>169</td>\n",
       "      <td>Ten years after a band of mercenaries first ba...</td>\n",
       "      <td>Predator 2</td>\n",
       "      <td>1990</td>\n",
       "    </tr>\n",
       "    <tr>\n",
       "      <th>1</th>\n",
       "      <td>Action</td>\n",
       "      <td>169</td>\n",
       "      <td>Ten years after a band of mercenaries first ba...</td>\n",
       "      <td>Predator 2</td>\n",
       "      <td>1990</td>\n",
       "    </tr>\n",
       "    <tr>\n",
       "      <th>2</th>\n",
       "      <td>Thriller</td>\n",
       "      <td>169</td>\n",
       "      <td>Ten years after a band of mercenaries first ba...</td>\n",
       "      <td>Predator 2</td>\n",
       "      <td>1990</td>\n",
       "    </tr>\n",
       "    <tr>\n",
       "      <th>3</th>\n",
       "      <td>Fantasy</td>\n",
       "      <td>162</td>\n",
       "      <td>A small suburban town receives a visit from a ...</td>\n",
       "      <td>Edward Scissorhands</td>\n",
       "      <td>1990</td>\n",
       "    </tr>\n",
       "    <tr>\n",
       "      <th>4</th>\n",
       "      <td>Drama</td>\n",
       "      <td>162</td>\n",
       "      <td>A small suburban town receives a visit from a ...</td>\n",
       "      <td>Edward Scissorhands</td>\n",
       "      <td>1990</td>\n",
       "    </tr>\n",
       "  </tbody>\n",
       "</table>\n",
       "</div>"
      ],
      "text/plain": [
       "             genre  movie id  \\\n",
       "0  Science Fiction       169   \n",
       "1           Action       169   \n",
       "2         Thriller       169   \n",
       "3          Fantasy       162   \n",
       "4            Drama       162   \n",
       "\n",
       "                                            overview                title  \\\n",
       "0  Ten years after a band of mercenaries first ba...           Predator 2   \n",
       "1  Ten years after a band of mercenaries first ba...           Predator 2   \n",
       "2  Ten years after a band of mercenaries first ba...           Predator 2   \n",
       "3  A small suburban town receives a visit from a ...  Edward Scissorhands   \n",
       "4  A small suburban town receives a visit from a ...  Edward Scissorhands   \n",
       "\n",
       "   year  \n",
       "0  1990  \n",
       "1  1990  \n",
       "2  1990  \n",
       "3  1990  \n",
       "4  1990  "
      ]
     },
     "execution_count": 10,
     "metadata": {},
     "output_type": "execute_result"
    }
   ],
   "source": [
    "genre_pop_100_df = pd.DataFrame.from_dict(g_info)\n",
    "genre_pop_100_df.head()"
   ]
  },
  {
   "cell_type": "code",
   "execution_count": 11,
   "metadata": {},
   "outputs": [],
   "source": [
    "genre_pop_100_df.to_csv(\"Resources/100 popular with genre.csv\")"
   ]
  },
  {
   "cell_type": "code",
   "execution_count": null,
   "metadata": {},
   "outputs": [],
   "source": []
  }
 ],
 "metadata": {
  "kernelspec": {
   "display_name": "Python 3",
   "language": "python",
   "name": "python3"
  },
  "language_info": {
   "codemirror_mode": {
    "name": "ipython",
    "version": 3
   },
   "file_extension": ".py",
   "mimetype": "text/x-python",
   "name": "python",
   "nbconvert_exporter": "python",
   "pygments_lexer": "ipython3",
   "version": "3.6.5"
  }
 },
 "nbformat": 4,
 "nbformat_minor": 2
}
