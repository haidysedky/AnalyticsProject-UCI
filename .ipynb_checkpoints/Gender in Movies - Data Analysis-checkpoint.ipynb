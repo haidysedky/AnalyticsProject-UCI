{
 "cells": [
  {
   "cell_type": "code",
   "execution_count": 1,
   "metadata": {},
   "outputs": [],
   "source": [
    "import warnings\n",
    "warnings.filterwarnings('ignore')"
   ]
  },
  {
   "cell_type": "code",
   "execution_count": 2,
   "metadata": {},
   "outputs": [],
   "source": [
    "%matplotlib inline\n",
    "import pandas as pd\n",
    "import numpy as np\n",
    "import matplotlib.pyplot as plt\n",
    "import matplotlib\n",
    "matplotlib.style.use('ggplot')\n",
    "import scipy.stats as stats\n",
    "import requests\n",
    "import json\n",
    "import time\n",
    "from datetime import datetime\n",
    "from pprint import pprint\n",
    "from config import api_key"
   ]
  },
  {
   "cell_type": "code",
   "execution_count": 3,
   "metadata": {},
   "outputs": [],
   "source": [
    "popular_movies_file_path = \"Resources/Popular movies.csv\"\n",
    "genre_movies_file_path = \"Resources/Popular movies with genre.csv\""
   ]
  },
  {
   "cell_type": "code",
   "execution_count": 4,
   "metadata": {},
   "outputs": [],
   "source": [
    "movies = pd.read_csv(popular_movies_file_path, index_col=0)\n",
    "movie_genre = pd.read_csv(genre_movies_file_path,  index_col=0)"
   ]
  },
  {
   "cell_type": "code",
   "execution_count": 5,
   "metadata": {
    "scrolled": true
   },
   "outputs": [
    {
     "data": {
      "text/html": [
       "<div>\n",
       "<style scoped>\n",
       "    .dataframe tbody tr th:only-of-type {\n",
       "        vertical-align: middle;\n",
       "    }\n",
       "\n",
       "    .dataframe tbody tr th {\n",
       "        vertical-align: top;\n",
       "    }\n",
       "\n",
       "    .dataframe thead th {\n",
       "        text-align: right;\n",
       "    }\n",
       "</style>\n",
       "<table border=\"1\" class=\"dataframe\">\n",
       "  <thead>\n",
       "    <tr style=\"text-align: right;\">\n",
       "      <th></th>\n",
       "      <th>movie id</th>\n",
       "      <th>overview</th>\n",
       "      <th>popularity rank</th>\n",
       "      <th>release year</th>\n",
       "      <th>title</th>\n",
       "      <th>budget</th>\n",
       "      <th>revenue</th>\n",
       "      <th>actor id</th>\n",
       "      <th>actor name</th>\n",
       "      <th>character</th>\n",
       "      <th>gender</th>\n",
       "    </tr>\n",
       "  </thead>\n",
       "  <tbody>\n",
       "    <tr>\n",
       "      <th>1</th>\n",
       "      <td>169</td>\n",
       "      <td>Ten years after a band of mercenaries first ba...</td>\n",
       "      <td>2</td>\n",
       "      <td>1990</td>\n",
       "      <td>Predator 2</td>\n",
       "      <td>35000000</td>\n",
       "      <td>57120318</td>\n",
       "      <td>1109.0</td>\n",
       "      <td>Kevin Peter Hall</td>\n",
       "      <td>The Predator</td>\n",
       "      <td>Male</td>\n",
       "    </tr>\n",
       "    <tr>\n",
       "      <th>2</th>\n",
       "      <td>162</td>\n",
       "      <td>A small suburban town receives a visit from a ...</td>\n",
       "      <td>3</td>\n",
       "      <td>1990</td>\n",
       "      <td>Edward Scissorhands</td>\n",
       "      <td>20000000</td>\n",
       "      <td>53000000</td>\n",
       "      <td>85.0</td>\n",
       "      <td>Johnny Depp</td>\n",
       "      <td>Edward Scissorhands</td>\n",
       "      <td>Male</td>\n",
       "    </tr>\n",
       "    <tr>\n",
       "      <th>3</th>\n",
       "      <td>1573</td>\n",
       "      <td>Off-duty cop John McClane is gripped with a fe...</td>\n",
       "      <td>4</td>\n",
       "      <td>1990</td>\n",
       "      <td>Die Hard 2</td>\n",
       "      <td>70000000</td>\n",
       "      <td>240031094</td>\n",
       "      <td>62.0</td>\n",
       "      <td>Bruce Willis</td>\n",
       "      <td>John McClane</td>\n",
       "      <td>Male</td>\n",
       "    </tr>\n",
       "    <tr>\n",
       "      <th>4</th>\n",
       "      <td>242</td>\n",
       "      <td>In the midst of trying to legitimize his busin...</td>\n",
       "      <td>5</td>\n",
       "      <td>1990</td>\n",
       "      <td>The Godfather: Part III</td>\n",
       "      <td>54000000</td>\n",
       "      <td>136766062</td>\n",
       "      <td>1158.0</td>\n",
       "      <td>Al Pacino</td>\n",
       "      <td>Don Michael Corleone</td>\n",
       "      <td>Male</td>\n",
       "    </tr>\n",
       "    <tr>\n",
       "      <th>5</th>\n",
       "      <td>1669</td>\n",
       "      <td>A new, technologically-superior Soviet sub, th...</td>\n",
       "      <td>6</td>\n",
       "      <td>1990</td>\n",
       "      <td>The Hunt for Red October</td>\n",
       "      <td>30000000</td>\n",
       "      <td>199200000</td>\n",
       "      <td>7447.0</td>\n",
       "      <td>Alec Baldwin</td>\n",
       "      <td>Jack Ryan</td>\n",
       "      <td>Male</td>\n",
       "    </tr>\n",
       "  </tbody>\n",
       "</table>\n",
       "</div>"
      ],
      "text/plain": [
       "   movie id                                           overview  \\\n",
       "1       169  Ten years after a band of mercenaries first ba...   \n",
       "2       162  A small suburban town receives a visit from a ...   \n",
       "3      1573  Off-duty cop John McClane is gripped with a fe...   \n",
       "4       242  In the midst of trying to legitimize his busin...   \n",
       "5      1669  A new, technologically-superior Soviet sub, th...   \n",
       "\n",
       "   popularity rank  release year                     title    budget  \\\n",
       "1                2          1990                Predator 2  35000000   \n",
       "2                3          1990       Edward Scissorhands  20000000   \n",
       "3                4          1990                Die Hard 2  70000000   \n",
       "4                5          1990   The Godfather: Part III  54000000   \n",
       "5                6          1990  The Hunt for Red October  30000000   \n",
       "\n",
       "     revenue  actor id        actor name             character gender  \n",
       "1   57120318    1109.0  Kevin Peter Hall          The Predator   Male  \n",
       "2   53000000      85.0       Johnny Depp   Edward Scissorhands   Male  \n",
       "3  240031094      62.0      Bruce Willis          John McClane   Male  \n",
       "4  136766062    1158.0         Al Pacino  Don Michael Corleone   Male  \n",
       "5  199200000    7447.0      Alec Baldwin             Jack Ryan   Male  "
      ]
     },
     "execution_count": 5,
     "metadata": {},
     "output_type": "execute_result"
    }
   ],
   "source": [
    "movies.head()"
   ]
  },
  {
   "cell_type": "markdown",
   "metadata": {},
   "source": [
    "### Gender analysis by years"
   ]
  },
  {
   "cell_type": "code",
   "execution_count": 6,
   "metadata": {},
   "outputs": [],
   "source": [
    "gender_year = movies[[\"actor name\", \"gender\", \"release year\"]]\n",
    "\n",
    "gender_year_grouped = gender_year.groupby([\"release year\", \"gender\"])\n",
    "\n",
    "gender_year_analysis = gender_year_grouped[\"gender\"].count().reset_index(name=\"count\")\n",
    "gender_year_analysis_df = pd.DataFrame(gender_year_analysis)"
   ]
  },
  {
   "cell_type": "code",
   "execution_count": 7,
   "metadata": {},
   "outputs": [
    {
     "data": {
      "text/html": [
       "<div>\n",
       "<style scoped>\n",
       "    .dataframe tbody tr th:only-of-type {\n",
       "        vertical-align: middle;\n",
       "    }\n",
       "\n",
       "    .dataframe tbody tr th {\n",
       "        vertical-align: top;\n",
       "    }\n",
       "\n",
       "    .dataframe thead th {\n",
       "        text-align: right;\n",
       "    }\n",
       "</style>\n",
       "<table border=\"1\" class=\"dataframe\">\n",
       "  <thead>\n",
       "    <tr style=\"text-align: right;\">\n",
       "      <th></th>\n",
       "      <th>release year</th>\n",
       "      <th>gender</th>\n",
       "      <th>count</th>\n",
       "    </tr>\n",
       "  </thead>\n",
       "  <tbody>\n",
       "    <tr>\n",
       "      <th>0</th>\n",
       "      <td>1990</td>\n",
       "      <td>Female</td>\n",
       "      <td>19</td>\n",
       "    </tr>\n",
       "    <tr>\n",
       "      <th>1</th>\n",
       "      <td>1990</td>\n",
       "      <td>Male</td>\n",
       "      <td>76</td>\n",
       "    </tr>\n",
       "    <tr>\n",
       "      <th>2</th>\n",
       "      <td>1991</td>\n",
       "      <td>Female</td>\n",
       "      <td>21</td>\n",
       "    </tr>\n",
       "    <tr>\n",
       "      <th>3</th>\n",
       "      <td>1991</td>\n",
       "      <td>Male</td>\n",
       "      <td>75</td>\n",
       "    </tr>\n",
       "    <tr>\n",
       "      <th>4</th>\n",
       "      <td>1992</td>\n",
       "      <td>Female</td>\n",
       "      <td>22</td>\n",
       "    </tr>\n",
       "  </tbody>\n",
       "</table>\n",
       "</div>"
      ],
      "text/plain": [
       "   release year  gender  count\n",
       "0          1990  Female     19\n",
       "1          1990    Male     76\n",
       "2          1991  Female     21\n",
       "3          1991    Male     75\n",
       "4          1992  Female     22"
      ]
     },
     "execution_count": 7,
     "metadata": {},
     "output_type": "execute_result"
    }
   ],
   "source": [
    "gender_year_analysis_df.head()"
   ]
  },
  {
   "cell_type": "markdown",
   "metadata": {},
   "source": [
    "### Plot Graph - Gender analysis by years"
   ]
  },
  {
   "cell_type": "code",
   "execution_count": 8,
   "metadata": {},
   "outputs": [],
   "source": [
    "gender_pivot = pd.pivot_table(gender_year_analysis_df, index=[\"release year\"], columns = \"gender\", values = \"count\")\n",
    "gender_pivot_percent = gender_pivot.div(gender_pivot.sum(1), axis=0)"
   ]
  },
  {
   "cell_type": "code",
   "execution_count": 9,
   "metadata": {},
   "outputs": [
    {
     "data": {
      "image/png": "[encoded data removed]",
      "text/plain": [
       "<Figure size 720x504 with 1 Axes>"
      ]
     },
     "metadata": {},
     "output_type": "display_data"
    }
   ],
   "source": [
    "colors = [\"orange\", \"skyblue\"]\n",
    "ax = gender_pivot_percent.plot.bar(stacked=True, color = colors, figsize=(10,7))\n",
    "plt.title(\"Number of popular movies with Female vs Male Lead Actor\")\n",
    "plt.xlabel(\"Years\")\n",
    "plt.ylabel(\"Percent of Movies\")\n",
    "vals = ax.get_yticks()\n",
    "ax.set_yticklabels(['{:,.0%}'.format(y) for y in vals])\n",
    "plt.legend(loc='lower left',  bbox_to_anchor=(1.0, 0.5), title =\"Gender of the Lead Actor\")\n",
    "plt.savefig(\"Resources/Are movies male centric.png\", bbox_inches='tight')\n",
    "plt.show()"
   ]
  },
  {
   "cell_type": "markdown",
   "metadata": {},
   "source": [
    "### Gender analysis by genre\n"
   ]
  },
  {
   "cell_type": "code",
   "execution_count": 10,
   "metadata": {},
   "outputs": [
    {
     "data": {
      "text/html": [
       "<div>\n",
       "<style scoped>\n",
       "    .dataframe tbody tr th:only-of-type {\n",
       "        vertical-align: middle;\n",
       "    }\n",
       "\n",
       "    .dataframe tbody tr th {\n",
       "        vertical-align: top;\n",
       "    }\n",
       "\n",
       "    .dataframe thead th {\n",
       "        text-align: right;\n",
       "    }\n",
       "</style>\n",
       "<table border=\"1\" class=\"dataframe\">\n",
       "  <thead>\n",
       "    <tr style=\"text-align: right;\">\n",
       "      <th></th>\n",
       "      <th>genre</th>\n",
       "      <th>movie id</th>\n",
       "      <th>title</th>\n",
       "    </tr>\n",
       "  </thead>\n",
       "  <tbody>\n",
       "    <tr>\n",
       "      <th>0</th>\n",
       "      <td>Adventure</td>\n",
       "      <td>71805</td>\n",
       "      <td>Shipwrecked</td>\n",
       "    </tr>\n",
       "    <tr>\n",
       "      <th>1</th>\n",
       "      <td>Family</td>\n",
       "      <td>71805</td>\n",
       "      <td>Shipwrecked</td>\n",
       "    </tr>\n",
       "    <tr>\n",
       "      <th>2</th>\n",
       "      <td>Science Fiction</td>\n",
       "      <td>169</td>\n",
       "      <td>Predator 2</td>\n",
       "    </tr>\n",
       "    <tr>\n",
       "      <th>3</th>\n",
       "      <td>Action</td>\n",
       "      <td>169</td>\n",
       "      <td>Predator 2</td>\n",
       "    </tr>\n",
       "    <tr>\n",
       "      <th>4</th>\n",
       "      <td>Thriller</td>\n",
       "      <td>169</td>\n",
       "      <td>Predator 2</td>\n",
       "    </tr>\n",
       "  </tbody>\n",
       "</table>\n",
       "</div>"
      ],
      "text/plain": [
       "             genre  movie id        title\n",
       "0        Adventure     71805  Shipwrecked\n",
       "1           Family     71805  Shipwrecked\n",
       "2  Science Fiction       169   Predator 2\n",
       "3           Action       169   Predator 2\n",
       "4         Thriller       169   Predator 2"
      ]
     },
     "execution_count": 10,
     "metadata": {},
     "output_type": "execute_result"
    }
   ],
   "source": [
    "movie_genre.head()"
   ]
  },
  {
   "cell_type": "code",
   "execution_count": 11,
   "metadata": {},
   "outputs": [
    {
     "data": {
      "text/html": [
       "<div>\n",
       "<style scoped>\n",
       "    .dataframe tbody tr th:only-of-type {\n",
       "        vertical-align: middle;\n",
       "    }\n",
       "\n",
       "    .dataframe tbody tr th {\n",
       "        vertical-align: top;\n",
       "    }\n",
       "\n",
       "    .dataframe thead th {\n",
       "        text-align: right;\n",
       "    }\n",
       "</style>\n",
       "<table border=\"1\" class=\"dataframe\">\n",
       "  <thead>\n",
       "    <tr style=\"text-align: right;\">\n",
       "      <th></th>\n",
       "      <th>movie id</th>\n",
       "      <th>genre</th>\n",
       "      <th>gender</th>\n",
       "      <th>actor name</th>\n",
       "      <th>release year</th>\n",
       "    </tr>\n",
       "  </thead>\n",
       "  <tbody>\n",
       "    <tr>\n",
       "      <th>0</th>\n",
       "      <td>169</td>\n",
       "      <td>Science Fiction</td>\n",
       "      <td>Male</td>\n",
       "      <td>Kevin Peter Hall</td>\n",
       "      <td>1990</td>\n",
       "    </tr>\n",
       "    <tr>\n",
       "      <th>1</th>\n",
       "      <td>169</td>\n",
       "      <td>Action</td>\n",
       "      <td>Male</td>\n",
       "      <td>Kevin Peter Hall</td>\n",
       "      <td>1990</td>\n",
       "    </tr>\n",
       "    <tr>\n",
       "      <th>2</th>\n",
       "      <td>169</td>\n",
       "      <td>Thriller</td>\n",
       "      <td>Male</td>\n",
       "      <td>Kevin Peter Hall</td>\n",
       "      <td>1990</td>\n",
       "    </tr>\n",
       "    <tr>\n",
       "      <th>3</th>\n",
       "      <td>162</td>\n",
       "      <td>Fantasy</td>\n",
       "      <td>Male</td>\n",
       "      <td>Johnny Depp</td>\n",
       "      <td>1990</td>\n",
       "    </tr>\n",
       "    <tr>\n",
       "      <th>4</th>\n",
       "      <td>162</td>\n",
       "      <td>Drama</td>\n",
       "      <td>Male</td>\n",
       "      <td>Johnny Depp</td>\n",
       "      <td>1990</td>\n",
       "    </tr>\n",
       "  </tbody>\n",
       "</table>\n",
       "</div>"
      ],
      "text/plain": [
       "   movie id            genre gender        actor name  release year\n",
       "0       169  Science Fiction   Male  Kevin Peter Hall          1990\n",
       "1       169           Action   Male  Kevin Peter Hall          1990\n",
       "2       169         Thriller   Male  Kevin Peter Hall          1990\n",
       "3       162          Fantasy   Male       Johnny Depp          1990\n",
       "4       162            Drama   Male       Johnny Depp          1990"
      ]
     },
     "execution_count": 11,
     "metadata": {},
     "output_type": "execute_result"
    }
   ],
   "source": [
    "cast_genre_df = pd.merge(movie_genre[[\"movie id\", \"genre\"]], \n",
    "                         movies[[\"movie id\", \"gender\", \"actor name\", \"release year\"]], \n",
    "                         on='movie id', how='inner')\n",
    "cast_genre_df.head()"
   ]
  },
  {
   "cell_type": "code",
   "execution_count": 12,
   "metadata": {},
   "outputs": [
    {
     "data": {
      "text/html": [
       "<div>\n",
       "<style scoped>\n",
       "    .dataframe tbody tr th:only-of-type {\n",
       "        vertical-align: middle;\n",
       "    }\n",
       "\n",
       "    .dataframe tbody tr th {\n",
       "        vertical-align: top;\n",
       "    }\n",
       "\n",
       "    .dataframe thead th {\n",
       "        text-align: right;\n",
       "    }\n",
       "</style>\n",
       "<table border=\"1\" class=\"dataframe\">\n",
       "  <thead>\n",
       "    <tr style=\"text-align: right;\">\n",
       "      <th></th>\n",
       "      <th>genre</th>\n",
       "      <th>gender</th>\n",
       "      <th>count</th>\n",
       "    </tr>\n",
       "  </thead>\n",
       "  <tbody>\n",
       "    <tr>\n",
       "      <th>0</th>\n",
       "      <td>Action</td>\n",
       "      <td>Female</td>\n",
       "      <td>128</td>\n",
       "    </tr>\n",
       "    <tr>\n",
       "      <th>1</th>\n",
       "      <td>Action</td>\n",
       "      <td>Male</td>\n",
       "      <td>812</td>\n",
       "    </tr>\n",
       "    <tr>\n",
       "      <th>2</th>\n",
       "      <td>Adventure</td>\n",
       "      <td>Female</td>\n",
       "      <td>106</td>\n",
       "    </tr>\n",
       "    <tr>\n",
       "      <th>3</th>\n",
       "      <td>Adventure</td>\n",
       "      <td>Male</td>\n",
       "      <td>583</td>\n",
       "    </tr>\n",
       "    <tr>\n",
       "      <th>4</th>\n",
       "      <td>Animation</td>\n",
       "      <td>Female</td>\n",
       "      <td>93</td>\n",
       "    </tr>\n",
       "  </tbody>\n",
       "</table>\n",
       "</div>"
      ],
      "text/plain": [
       "       genre  gender  count\n",
       "0     Action  Female    128\n",
       "1     Action    Male    812\n",
       "2  Adventure  Female    106\n",
       "3  Adventure    Male    583\n",
       "4  Animation  Female     93"
      ]
     },
     "execution_count": 12,
     "metadata": {},
     "output_type": "execute_result"
    }
   ],
   "source": [
    "cast_genre_grouped = cast_genre_df.groupby([\"genre\",\"gender\"])\n",
    "\n",
    "gender_genre_analysis = cast_genre_grouped[\"gender\"].count().reset_index(name=\"count\")\n",
    "gender_genre_analysis_df = pd.DataFrame(gender_genre_analysis)\n",
    "gender_genre_analysis_df.head()"
   ]
  },
  {
   "cell_type": "code",
   "execution_count": 13,
   "metadata": {},
   "outputs": [],
   "source": [
    "genre_pivot = pd.pivot_table(gender_genre_analysis_df, index=[\"genre\"], columns = \"gender\", values = \"count\")"
   ]
  },
  {
   "cell_type": "code",
   "execution_count": 14,
   "metadata": {},
   "outputs": [],
   "source": [
    "genre_pivot_percent  = genre_pivot.div(genre_pivot.sum(1), axis=0)"
   ]
  },
  {
   "cell_type": "code",
   "execution_count": 15,
   "metadata": {},
   "outputs": [
    {
     "data": {
      "image/png": "[encoded data removed]",
      "text/plain": [
       "<Figure size 720x504 with 1 Axes>"
      ]
     },
     "metadata": {},
     "output_type": "display_data"
    }
   ],
   "source": [
    "bx = genre_pivot_percent.plot.bar(stacked=True, color = colors, figsize=(10,7))\n",
    "plt.title(\"Genre of movies with Female vs Male Lead Actor (Percent)\")\n",
    "plt.xlabel(\"Genre\")\n",
    "plt.ylabel(\"Percent of Movies - Lead Actor's gender wise\")\n",
    "vals = bx.get_yticks()\n",
    "bx.set_yticklabels(['{:,.0%}'.format(y) for y in vals])\n",
    "plt.legend(loc='lower left',  bbox_to_anchor=(1.0, 0.5), title =\"Gender of the Lead Actor\")\n",
    "plt.savefig(\"Resources/Percent gender analysis by genre.png\", bbox_inches='tight')\n",
    "plt.show()"
   ]
  },
  {
   "cell_type": "markdown",
   "metadata": {},
   "source": [
    "### Top actors in movies"
   ]
  },
  {
   "cell_type": "code",
   "execution_count": 16,
   "metadata": {},
   "outputs": [],
   "source": [
    "df_female = movies.loc[movies[\"gender\"]==\"Female\",:]\n",
    "df_male = movies.loc[movies[\"gender\"]==\"Male\",:]"
   ]
  },
  {
   "cell_type": "code",
   "execution_count": 17,
   "metadata": {},
   "outputs": [],
   "source": [
    "df_female_top = (pd.DataFrame(df_female[\"actor name\"].value_counts())).rename(columns={\"actor name\":  \"Number of Movies\"})\n",
    "df_female_top.sort_values(by=\"Number of Movies\", ascending=False, inplace=True)\n",
    "df_female_top = df_female_top.head(5)\n",
    "df_female_top.reset_index(inplace=True)\n",
    "df_male_top = (pd.DataFrame(df_male[\"actor name\"].value_counts())).rename(columns={\"actor name\":  \"Number of Movies\"})\n",
    "df_male_top.sort_values(by=\"Number of Movies\", ascending=False, inplace=True)\n",
    "df_male_top = df_male_top.head(5)\n",
    "df_male_top.reset_index(inplace=True)"
   ]
  },
  {
   "cell_type": "code",
   "execution_count": 18,
   "metadata": {},
   "outputs": [
    {
     "data": {
      "image/png": "[encoded data removed]",
      "text/plain": [
       "<Figure size 432x288 with 1 Axes>"
      ]
     },
     "metadata": {},
     "output_type": "display_data"
    }
   ],
   "source": [
    "x_ticks = np.arange(0,5,1)\n",
    "#plt.subplot(1,3,1)\n",
    "plt.bar(x_ticks,df_female_top[\"Number of Movies\"], align='center', color= \"orange\", edgecolor='grey',linewidth=0.7)\n",
    "plt.xticks(x_ticks,df_female_top[\"index\"], rotation=45)\n",
    "plt.title(\"Top 5 Hired Female Actors in Popular Movies\")\n",
    "plt.xlabel(\"Name of the Actors\")\n",
    "plt.ylabel(\"Number of Movies\")\n",
    "plt.savefig(\"Resources/Top 5 hired female actors.png\")\n",
    "plt.figsize=(10,7)"
   ]
  },
  {
   "cell_type": "code",
   "execution_count": 19,
   "metadata": {},
   "outputs": [
    {
     "data": {
      "image/png": "[encoded data removed]",
      "text/plain": [
       "<Figure size 432x288 with 1 Axes>"
      ]
     },
     "metadata": {},
     "output_type": "display_data"
    }
   ],
   "source": [
    "#plt.subplot(1,3,3)\n",
    "plt.bar(x_ticks,df_male_top[\"Number of Movies\"], align='center', color= \"skyblue\", edgecolor='grey',linewidth=0.7)\n",
    "plt.xticks(x_ticks,df_male_top[\"index\"], rotation=45)\n",
    "plt.title(\"Top 5 Hired Male Actors in Popular Movies\")\n",
    "plt.xlabel(\"Name of the Actors\")\n",
    "plt.ylabel(\"Number of Movies\")\n",
    "plt.savefig(\"Resources/Top 5 hired male actors.png\")\n",
    "plt.figsize=(10,7)"
   ]
  },
  {
   "cell_type": "markdown",
   "metadata": {},
   "source": [
    "### Gender analysis by revenue"
   ]
  },
  {
   "cell_type": "code",
   "execution_count": 49,
   "metadata": {},
   "outputs": [],
   "source": [
    "movies_revenue_analysis = movies[[\"movie id\", \"gender\", \"release year\", \"budget\", \"revenue\"]]"
   ]
  },
  {
   "cell_type": "code",
   "execution_count": 50,
   "metadata": {},
   "outputs": [],
   "source": [
    "movies_revenue_analysis = movies_revenue_analysis[movies[\"budget\"] != 0]\n",
    "movies_revenue_analysis = movies_revenue_analysis[movies[\"revenue\"] != 0]"
   ]
  },
  {
   "cell_type": "code",
   "execution_count": 51,
   "metadata": {},
   "outputs": [],
   "source": [
    "movies_revenue_analysis[\"revenue-budget ratio\"] = (movies_revenue_analysis[\"revenue\"]/movies_revenue_analysis[\"budget\"]).round(3)"
   ]
  },
  {
   "cell_type": "code",
   "execution_count": 52,
   "metadata": {},
   "outputs": [],
   "source": [
    "# Establish bins for decades\n",
    "decade_bins = [1989, 1999, 2009, 2019]\n",
    "decade_names = [\"1990s\",\"2000s\", \"2010s\"]"
   ]
  },
  {
   "cell_type": "code",
   "execution_count": 53,
   "metadata": {},
   "outputs": [
    {
     "data": {
      "text/html": [
       "<div>\n",
       "<style scoped>\n",
       "    .dataframe tbody tr th:only-of-type {\n",
       "        vertical-align: middle;\n",
       "    }\n",
       "\n",
       "    .dataframe tbody tr th {\n",
       "        vertical-align: top;\n",
       "    }\n",
       "\n",
       "    .dataframe thead th {\n",
       "        text-align: right;\n",
       "    }\n",
       "</style>\n",
       "<table border=\"1\" class=\"dataframe\">\n",
       "  <thead>\n",
       "    <tr style=\"text-align: right;\">\n",
       "      <th></th>\n",
       "      <th>movie id</th>\n",
       "      <th>gender</th>\n",
       "      <th>release year</th>\n",
       "      <th>budget</th>\n",
       "      <th>revenue</th>\n",
       "      <th>revenue-budget ratio</th>\n",
       "      <th>decade</th>\n",
       "    </tr>\n",
       "  </thead>\n",
       "  <tbody>\n",
       "    <tr>\n",
       "      <th>1</th>\n",
       "      <td>169</td>\n",
       "      <td>Male</td>\n",
       "      <td>1990</td>\n",
       "      <td>35000000</td>\n",
       "      <td>57120318</td>\n",
       "      <td>1.632</td>\n",
       "      <td>1990s</td>\n",
       "    </tr>\n",
       "    <tr>\n",
       "      <th>2</th>\n",
       "      <td>162</td>\n",
       "      <td>Male</td>\n",
       "      <td>1990</td>\n",
       "      <td>20000000</td>\n",
       "      <td>53000000</td>\n",
       "      <td>2.650</td>\n",
       "      <td>1990s</td>\n",
       "    </tr>\n",
       "    <tr>\n",
       "      <th>3</th>\n",
       "      <td>1573</td>\n",
       "      <td>Male</td>\n",
       "      <td>1990</td>\n",
       "      <td>70000000</td>\n",
       "      <td>240031094</td>\n",
       "      <td>3.429</td>\n",
       "      <td>1990s</td>\n",
       "    </tr>\n",
       "    <tr>\n",
       "      <th>4</th>\n",
       "      <td>242</td>\n",
       "      <td>Male</td>\n",
       "      <td>1990</td>\n",
       "      <td>54000000</td>\n",
       "      <td>136766062</td>\n",
       "      <td>2.533</td>\n",
       "      <td>1990s</td>\n",
       "    </tr>\n",
       "    <tr>\n",
       "      <th>5</th>\n",
       "      <td>1669</td>\n",
       "      <td>Male</td>\n",
       "      <td>1990</td>\n",
       "      <td>30000000</td>\n",
       "      <td>199200000</td>\n",
       "      <td>6.640</td>\n",
       "      <td>1990s</td>\n",
       "    </tr>\n",
       "  </tbody>\n",
       "</table>\n",
       "</div>"
      ],
      "text/plain": [
       "   movie id gender  release year    budget    revenue  revenue-budget ratio  \\\n",
       "1       169   Male          1990  35000000   57120318                 1.632   \n",
       "2       162   Male          1990  20000000   53000000                 2.650   \n",
       "3      1573   Male          1990  70000000  240031094                 3.429   \n",
       "4       242   Male          1990  54000000  136766062                 2.533   \n",
       "5      1669   Male          1990  30000000  199200000                 6.640   \n",
       "\n",
       "  decade  \n",
       "1  1990s  \n",
       "2  1990s  \n",
       "3  1990s  \n",
       "4  1990s  \n",
       "5  1990s  "
      ]
     },
     "execution_count": 53,
     "metadata": {},
     "output_type": "execute_result"
    }
   ],
   "source": [
    "movies_revenue_analysis[\"decade\"] = pd.cut(movies_revenue_analysis[ \"release year\"], decade_bins, labels = decade_names)\n",
    "movies_revenue_analysis.head()"
   ]
  },
  {
   "cell_type": "code",
   "execution_count": 54,
   "metadata": {},
   "outputs": [],
   "source": [
    "gender_revenue_grouped = movies_revenue_analysis.groupby([\"decade\", \"gender\"])\n",
    "revenue_year_analysis = gender_revenue_grouped[\"revenue-budget ratio\"].mean().reset_index(name=\"average ratio\")\n",
    "revenue_year_analysis_df = pd.DataFrame(revenue_year_analysis)"
   ]
  },
  {
   "cell_type": "code",
   "execution_count": 55,
   "metadata": {},
   "outputs": [
    {
     "data": {
      "text/html": [
       "<div>\n",
       "<style scoped>\n",
       "    .dataframe tbody tr th:only-of-type {\n",
       "        vertical-align: middle;\n",
       "    }\n",
       "\n",
       "    .dataframe tbody tr th {\n",
       "        vertical-align: top;\n",
       "    }\n",
       "\n",
       "    .dataframe thead th {\n",
       "        text-align: right;\n",
       "    }\n",
       "</style>\n",
       "<table border=\"1\" class=\"dataframe\">\n",
       "  <thead>\n",
       "    <tr style=\"text-align: right;\">\n",
       "      <th>gender</th>\n",
       "      <th>Female</th>\n",
       "      <th>Male</th>\n",
       "    </tr>\n",
       "    <tr>\n",
       "      <th>decade</th>\n",
       "      <th></th>\n",
       "      <th></th>\n",
       "    </tr>\n",
       "  </thead>\n",
       "  <tbody>\n",
       "    <tr>\n",
       "      <th>1990s</th>\n",
       "      <td>40.316920</td>\n",
       "      <td>4.358742</td>\n",
       "    </tr>\n",
       "    <tr>\n",
       "      <th>2000s</th>\n",
       "      <td>94.079371</td>\n",
       "      <td>4.112989</td>\n",
       "    </tr>\n",
       "    <tr>\n",
       "      <th>2010s</th>\n",
       "      <td>5.114977</td>\n",
       "      <td>3.922031</td>\n",
       "    </tr>\n",
       "  </tbody>\n",
       "</table>\n",
       "</div>"
      ],
      "text/plain": [
       "gender     Female      Male\n",
       "decade                     \n",
       "1990s   40.316920  4.358742\n",
       "2000s   94.079371  4.112989\n",
       "2010s    5.114977  3.922031"
      ]
     },
     "execution_count": 55,
     "metadata": {},
     "output_type": "execute_result"
    }
   ],
   "source": [
    "revenue_decade_pivot = pd.pivot_table(revenue_year_analysis_df, \n",
    "                                      index = [\"decade\"], \n",
    "                                      columns = \"gender\", \n",
    "                                      values = \"average ratio\")\n",
    "revenue_decade_pivot"
   ]
  },
  {
   "cell_type": "code",
   "execution_count": 56,
   "metadata": {},
   "outputs": [
    {
     "data": {
      "image/png": "[encoded data removed]",
      "text/plain": [
       "<Figure size 720x504 with 1 Axes>"
      ]
     },
     "metadata": {},
     "output_type": "display_data"
    }
   ],
   "source": [
    "revenue_decade_pivot.plot.bar(color = [\"orange\", \"skyblue\"], figsize=(10,7))\n",
    "plt.title(\"Gender Analysis - Revenue / Budget ratio across Decades\")\n",
    "plt.xlabel(\"Decades\")\n",
    "plt.ylabel(\"Revenue / Budget ratio - Lead Actor's gender wise\")\n",
    "plt.savefig(\"Resources/gender analysis by revenue across decades.png\", bbox_inches='tight')\n",
    "plt.show()"
   ]
  },
  {
   "cell_type": "markdown",
   "metadata": {},
   "source": [
    "### Hypothesis test\n",
    "\n",
    "* Hypothesis - If gender of the lead actor is related to revenue of the movie, then casting male lead actor will lead to 10% more revenue over budget as compared to revenue over budget for female lead actor.\n",
    "\n",
    "* Null Hypothesis - If gender of the lead actor is not related to revenue of the movie, then casting male lead actor will not lead to 10% more revenue over budget as compared to revenue over budget for female lead actor."
   ]
  },
  {
   "cell_type": "code",
   "execution_count": 57,
   "metadata": {},
   "outputs": [],
   "source": [
    "population1 = movies_revenue_analysis.loc[(movies_revenue_analysis[\"gender\"]==\"Female\"), \"revenue-budget ratio\"]"
   ]
  },
  {
   "cell_type": "code",
   "execution_count": 58,
   "metadata": {},
   "outputs": [],
   "source": [
    "population2 = movies_revenue_analysis.loc[(movies_revenue_analysis[\"gender\"]==\"Male\"), \"revenue-budget ratio\"]"
   ]
  },
  {
   "cell_type": "code",
   "execution_count": 62,
   "metadata": {},
   "outputs": [
    {
     "name": "stdout",
     "output_type": "stream",
     "text": [
      "statistic= 1.2665929250632164, pvalue= 0.20598331045613813\n"
     ]
    }
   ],
   "source": [
    "(t_stat, p) = stats.ttest_ind(population1, population2, equal_var=False)\n",
    "print(f\"statistic= {t_stat}, pvalue= {p}\")"
   ]
  },
  {
   "cell_type": "code",
   "execution_count": 60,
   "metadata": {},
   "outputs": [
    {
     "name": "stdout",
     "output_type": "stream",
     "text": [
      "The differences between box office performance for male vs female lead cast are due to chance.\n"
     ]
    }
   ],
   "source": [
    "if p < 0.05:\n",
    "    print(\"The differences between box office performance for male vs female lead cast are significant.\")\n",
    "else:\n",
    "    print(\"The differences between box office performance for male vs female lead cast are due to chance.\")"
   ]
  },
  {
   "cell_type": "code",
   "execution_count": null,
   "metadata": {},
   "outputs": [],
   "source": []
  }
 ],
 "metadata": {
  "kernelspec": {
   "display_name": "Python 3",
   "language": "python",
   "name": "python3"
  },
  "language_info": {
   "codemirror_mode": {
    "name": "ipython",
    "version": 3
   },
   "file_extension": ".py",
   "mimetype": "text/x-python",
   "name": "python",
   "nbconvert_exporter": "python",
   "pygments_lexer": "ipython3",
   "version": "3.6.5"
  }
 },
 "nbformat": 4,
 "nbformat_minor": 2
}
