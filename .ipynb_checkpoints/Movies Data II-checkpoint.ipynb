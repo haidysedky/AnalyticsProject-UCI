{
 "cells": [
  {
   "cell_type": "code",
   "execution_count": 1,
   "metadata": {},
   "outputs": [],
   "source": [
    "import pandas as pd\n",
    "import requests\n",
    "import json\n",
    "import time\n",
    "from datetime import datetime\n",
    "from pprint import pprint\n",
    "from config import api_key"
   ]
  },
  {
   "cell_type": "code",
   "execution_count": 2,
   "metadata": {},
   "outputs": [],
   "source": [
    "url = \"https://api.themoviedb.org/3/\""
   ]
  },
  {
   "cell_type": "code",
   "execution_count": 3,
   "metadata": {},
   "outputs": [],
   "source": [
    "popular_100_df = pd.read_csv(\"Resources/Most popular 100 movies.csv\")"
   ]
  },
  {
   "cell_type": "markdown",
   "metadata": {},
   "source": [
    "# Casting info in these movies\n",
    "### Most prominent actor"
   ]
  },
  {
   "cell_type": "code",
   "execution_count": 4,
   "metadata": {},
   "outputs": [
    {
     "name": "stdout",
     "output_type": "stream",
     "text": [
      "Cast info not available for movie: The Seventh Brother\n",
      "Cast info not available for movie: Urotsukidoji III: Return of the Overfiend\n",
      "Cast info not available for movie: One Man Band\n"
     ]
    }
   ],
   "source": [
    "# For every popular movie in the list, find the cast info for 5 most prominent characters\n",
    "\n",
    "pop_100_cast = []\n",
    "actor_info = []\n",
    "\n",
    "timeout_count = 1\n",
    "\n",
    "for i in range(len(popular_100_df[\"movie id\"])):\n",
    "    credits_url = url + \"movie/\" + str(popular_100_df[\"movie id\"][i]) + \"/credits?api_key=\" + api_key\n",
    "\n",
    "    casting_data = requests.get(credits_url).json()\n",
    "    \n",
    "    try:\n",
    "        if casting_data[\"cast\"][0][\"gender\"] == 1:\n",
    "            gender = \"Female\"\n",
    "        elif casting_data[\"cast\"][0][\"gender\"] == 2:\n",
    "            gender = \"Male\"\n",
    "        else:\n",
    "            gender = \"Unknown\"\n",
    "\n",
    "        pop_100_cast.append({\"movie id\": popular_100_df[\"movie id\"][i], \n",
    "                            \"title\": popular_100_df[\"title\"][i],\n",
    "                            \"character\": casting_data[\"cast\"][0][\"character\"],\n",
    "                            \"actor id\": casting_data[\"cast\"][0][\"id\"],\n",
    "                            \"actor name\": casting_data[\"cast\"][0][\"name\"],\n",
    "                            \"gender\": gender\n",
    "                            })\n",
    "        actor_info.append({\"actor id\": casting_data[\"cast\"][0][\"id\"],\n",
    "                            \"actor name\": casting_data[\"cast\"][0][\"name\"],\n",
    "                            \"gender\": gender\n",
    "                            })\n",
    "        \n",
    "    except IndexError:\n",
    "        print(\"Cast info not available for movie: \" + popular_100_df[\"title\"][i])\n",
    "    \n",
    "    timeout_count+=1\n",
    "    if (timeout_count%1000) == 0:\n",
    "        time.sleep(10)"
   ]
  },
  {
   "cell_type": "code",
   "execution_count": 5,
   "metadata": {},
   "outputs": [
    {
     "data": {
      "text/html": [
       "<div>\n",
       "<style scoped>\n",
       "    .dataframe tbody tr th:only-of-type {\n",
       "        vertical-align: middle;\n",
       "    }\n",
       "\n",
       "    .dataframe tbody tr th {\n",
       "        vertical-align: top;\n",
       "    }\n",
       "\n",
       "    .dataframe thead th {\n",
       "        text-align: right;\n",
       "    }\n",
       "</style>\n",
       "<table border=\"1\" class=\"dataframe\">\n",
       "  <thead>\n",
       "    <tr style=\"text-align: right;\">\n",
       "      <th></th>\n",
       "      <th>actor id</th>\n",
       "      <th>actor name</th>\n",
       "      <th>character</th>\n",
       "      <th>gender</th>\n",
       "      <th>movie id</th>\n",
       "      <th>title</th>\n",
       "    </tr>\n",
       "  </thead>\n",
       "  <tbody>\n",
       "    <tr>\n",
       "      <th>0</th>\n",
       "      <td>1109</td>\n",
       "      <td>Kevin Peter Hall</td>\n",
       "      <td>The Predator</td>\n",
       "      <td>Male</td>\n",
       "      <td>169</td>\n",
       "      <td>Predator 2</td>\n",
       "    </tr>\n",
       "    <tr>\n",
       "      <th>1</th>\n",
       "      <td>85</td>\n",
       "      <td>Johnny Depp</td>\n",
       "      <td>Edward Scissorhands</td>\n",
       "      <td>Male</td>\n",
       "      <td>162</td>\n",
       "      <td>Edward Scissorhands</td>\n",
       "    </tr>\n",
       "    <tr>\n",
       "      <th>2</th>\n",
       "      <td>62</td>\n",
       "      <td>Bruce Willis</td>\n",
       "      <td>John McClane</td>\n",
       "      <td>Male</td>\n",
       "      <td>1573</td>\n",
       "      <td>Die Hard 2</td>\n",
       "    </tr>\n",
       "    <tr>\n",
       "      <th>3</th>\n",
       "      <td>1204</td>\n",
       "      <td>Julia Roberts</td>\n",
       "      <td>Vivian Ward</td>\n",
       "      <td>Female</td>\n",
       "      <td>114</td>\n",
       "      <td>Pretty Woman</td>\n",
       "    </tr>\n",
       "    <tr>\n",
       "      <th>5</th>\n",
       "      <td>1158</td>\n",
       "      <td>Al Pacino</td>\n",
       "      <td>Don Michael Corleone</td>\n",
       "      <td>Male</td>\n",
       "      <td>242</td>\n",
       "      <td>The Godfather: Part III</td>\n",
       "    </tr>\n",
       "  </tbody>\n",
       "</table>\n",
       "</div>"
      ],
      "text/plain": [
       "   actor id        actor name             character  gender  movie id  \\\n",
       "0      1109  Kevin Peter Hall          The Predator    Male       169   \n",
       "1        85       Johnny Depp   Edward Scissorhands    Male       162   \n",
       "2        62      Bruce Willis          John McClane    Male      1573   \n",
       "3      1204     Julia Roberts           Vivian Ward  Female       114   \n",
       "5      1158         Al Pacino  Don Michael Corleone    Male       242   \n",
       "\n",
       "                     title  \n",
       "0               Predator 2  \n",
       "1      Edward Scissorhands  \n",
       "2               Die Hard 2  \n",
       "3             Pretty Woman  \n",
       "5  The Godfather: Part III  "
      ]
     },
     "execution_count": 5,
     "metadata": {},
     "output_type": "execute_result"
    }
   ],
   "source": [
    "pop_100_cast_df = pd.DataFrame.from_dict(pop_100_cast)\n",
    "pop_100_cast_df = pop_100_cast_df[pop_100_cast_df[\"gender\"] != 'Unknown']\n",
    "actor_info_df = pd.DataFrame.from_dict(actor_info)\n",
    "actor_info_df = actor_info_df[actor_info_df[\"gender\"] != 'Unknown']\n",
    "pop_100_cast_df.head()"
   ]
  },
  {
   "cell_type": "code",
   "execution_count": 6,
   "metadata": {},
   "outputs": [],
   "source": [
    "pop_100_cast_df.to_csv(\"Resources/Cast_100_popular_movies.csv\")"
   ]
  }
 ],
 "metadata": {
  "kernelspec": {
   "display_name": "Python 3",
   "language": "python",
   "name": "python3"
  },
  "language_info": {
   "codemirror_mode": {
    "name": "ipython",
    "version": 3
   },
   "file_extension": ".py",
   "mimetype": "text/x-python",
   "name": "python",
   "nbconvert_exporter": "python",
   "pygments_lexer": "ipython3",
   "version": "3.6.5"
  }
 },
 "nbformat": 4,
 "nbformat_minor": 2
}
