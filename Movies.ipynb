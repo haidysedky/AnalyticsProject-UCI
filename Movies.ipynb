{
 "cells": [
  {
   "cell_type": "code",
   "execution_count": 1,
   "metadata": {},
   "outputs": [],
   "source": [
    "import pandas as pd\n",
    "import requests\n",
    "import json\n",
    "import time\n",
    "from datetime import datetime\n",
    "from pprint import pprint\n",
    "from config import api_key"
   ]
  },
  {
   "cell_type": "code",
   "execution_count": 2,
   "metadata": {},
   "outputs": [],
   "source": [
    "url = \"https://api.themoviedb.org/3/\""
   ]
  },
  {
   "cell_type": "markdown",
   "metadata": {},
   "source": [
    "## Most Popular 20 Movies every year between 2010 and 2018\n"
   ]
  },
  {
   "cell_type": "code",
   "execution_count": 3,
   "metadata": {},
   "outputs": [],
   "source": [
    "# URL to discover most popular action & adventure movies between 2010 and 2018\n",
    "\n",
    "popular_100 = []\n",
    "\n",
    "for year in range(2010,2018):\n",
    "        for page in range(1,6): \n",
    "            # url\n",
    "            discover_url = url + \"discover/movie?api_key=\"+ api_key \\\n",
    "            + \"&language=en-US&region=US&sort_by=popularity.desc&include_adult=false&include_video=false&page=\" \\\n",
    "            + str(page) + \"&primary_release_year=\" + str(year)\n",
    "\n",
    "            popular_100_data = requests.get(discover_url).json()\n",
    "\n",
    "            for movie in popular_100_data['results']:\n",
    "                popular_100.append({\"id\": movie['id'], \n",
    "                                    \"title\": movie['title'], \n",
    "                                    \"genre_ids\": movie[\"genre_ids\"],\n",
    "                                    \"year\": year,\n",
    "                                   \"overview\": movie['overview']})"
   ]
  },
  {
   "cell_type": "code",
   "execution_count": 4,
   "metadata": {},
   "outputs": [
    {
     "data": {
      "text/html": [
       "<div>\n",
       "<style scoped>\n",
       "    .dataframe tbody tr th:only-of-type {\n",
       "        vertical-align: middle;\n",
       "    }\n",
       "\n",
       "    .dataframe tbody tr th {\n",
       "        vertical-align: top;\n",
       "    }\n",
       "\n",
       "    .dataframe thead th {\n",
       "        text-align: right;\n",
       "    }\n",
       "</style>\n",
       "<table border=\"1\" class=\"dataframe\">\n",
       "  <thead>\n",
       "    <tr style=\"text-align: right;\">\n",
       "      <th></th>\n",
       "      <th>genre_ids</th>\n",
       "      <th>id</th>\n",
       "      <th>overview</th>\n",
       "      <th>title</th>\n",
       "      <th>year</th>\n",
       "    </tr>\n",
       "  </thead>\n",
       "  <tbody>\n",
       "    <tr>\n",
       "      <th>0</th>\n",
       "      <td>[28, 53, 878, 9648, 12]</td>\n",
       "      <td>27205</td>\n",
       "      <td>Cobb, a skilled thief who commits corporate es...</td>\n",
       "      <td>Inception</td>\n",
       "      <td>2010</td>\n",
       "    </tr>\n",
       "    <tr>\n",
       "      <th>1</th>\n",
       "      <td>[18, 53, 9648]</td>\n",
       "      <td>11324</td>\n",
       "      <td>World War II soldier-turned-U.S. Marshal Teddy...</td>\n",
       "      <td>Shutter Island</td>\n",
       "      <td>2010</td>\n",
       "    </tr>\n",
       "    <tr>\n",
       "      <th>2</th>\n",
       "      <td>[12, 14, 10751]</td>\n",
       "      <td>12444</td>\n",
       "      <td>Harry, Ron and Hermione walk away from their l...</td>\n",
       "      <td>Harry Potter and the Deathly Hallows: Part 1</td>\n",
       "      <td>2010</td>\n",
       "    </tr>\n",
       "    <tr>\n",
       "      <th>3</th>\n",
       "      <td>[53, 12, 28]</td>\n",
       "      <td>27578</td>\n",
       "      <td>Barney Ross leads a band of highly skilled mer...</td>\n",
       "      <td>The Expendables</td>\n",
       "      <td>2010</td>\n",
       "    </tr>\n",
       "    <tr>\n",
       "      <th>4</th>\n",
       "      <td>[12, 28, 878]</td>\n",
       "      <td>10138</td>\n",
       "      <td>With the world now aware of his dual life as t...</td>\n",
       "      <td>Iron Man 2</td>\n",
       "      <td>2010</td>\n",
       "    </tr>\n",
       "  </tbody>\n",
       "</table>\n",
       "</div>"
      ],
      "text/plain": [
       "                 genre_ids     id  \\\n",
       "0  [28, 53, 878, 9648, 12]  27205   \n",
       "1           [18, 53, 9648]  11324   \n",
       "2          [12, 14, 10751]  12444   \n",
       "3             [53, 12, 28]  27578   \n",
       "4            [12, 28, 878]  10138   \n",
       "\n",
       "                                            overview  \\\n",
       "0  Cobb, a skilled thief who commits corporate es...   \n",
       "1  World War II soldier-turned-U.S. Marshal Teddy...   \n",
       "2  Harry, Ron and Hermione walk away from their l...   \n",
       "3  Barney Ross leads a band of highly skilled mer...   \n",
       "4  With the world now aware of his dual life as t...   \n",
       "\n",
       "                                          title  year  \n",
       "0                                     Inception  2010  \n",
       "1                                Shutter Island  2010  \n",
       "2  Harry Potter and the Deathly Hallows: Part 1  2010  \n",
       "3                               The Expendables  2010  \n",
       "4                                    Iron Man 2  2010  "
      ]
     },
     "execution_count": 4,
     "metadata": {},
     "output_type": "execute_result"
    }
   ],
   "source": [
    "popular_100_df = pd.DataFrame.from_dict(popular_100)\n",
    "popular_100_df.head()"
   ]
  },
  {
   "cell_type": "code",
   "execution_count": 7,
   "metadata": {},
   "outputs": [],
   "source": [
    "popular_100_df.to_csv(\"Most popular 100 movies.csv\")"
   ]
  },
  {
   "cell_type": "markdown",
   "metadata": {},
   "source": [
    "## Genre of these movies "
   ]
  },
  {
   "cell_type": "code",
   "execution_count": null,
   "metadata": {},
   "outputs": [],
   "source": [
    "genre_url = url + \"genre/movie/list?api_key=\" + api_key+ \"&language=en-US\"\n",
    "\n",
    "genre_list = []\n",
    "genre_data = requests.get(genre_url).json()\n",
    "for genre in genre_data[\"genres\"]:\n",
    "    genre_list.append({\"genre_id\": genre[\"id\"],\n",
    "                       \"genre_name\": genre[\"name\"]})\n",
    "    \n",
    "genre_list_df = pd.DataFrame.from_dict(genre_list)\n",
    "genre_list_df.head()"
   ]
  },
  {
   "cell_type": "code",
   "execution_count": null,
   "metadata": {},
   "outputs": [],
   "source": [
    "genre_list_df.to_csv(\"Genre list.csv\")"
   ]
  },
  {
   "cell_type": "code",
   "execution_count": null,
   "metadata": {},
   "outputs": [],
   "source": [
    "for movie in popular_100_df:"
   ]
  },
  {
   "cell_type": "code",
   "execution_count": null,
   "metadata": {},
   "outputs": [],
   "source": []
  },
  {
   "cell_type": "code",
   "execution_count": null,
   "metadata": {},
   "outputs": [],
   "source": []
  },
  {
   "cell_type": "markdown",
   "metadata": {},
   "source": [
    "# Casting info in these movies\n",
    "### 5 most prominent actors"
   ]
  },
  {
   "cell_type": "code",
   "execution_count": null,
   "metadata": {},
   "outputs": [],
   "source": [
    "# For every popular movie in the list, find the cast info for 5 most prominent characters\n",
    "pop_100_cast = []\n",
    "for i in range(len(AA_popular_20_pd[\"id\"])):\n",
    "    credits_url = url + \"movie/\" + str(popular_100_df[\"id\"][i]) + \"/credits?api_key=\" + api_key\n",
    "\n",
    "    casting_data = requests.get(credits_url).json()\n",
    "    for j in range(len(casting_data[\"cast\"])):\n",
    "        if j==0:\n",
    "            pop_100_cast.append({\"id\": popular_100_df[\"id\"][i], \n",
    "                                  \"title\": popular_100_df[\"title\"][i],\n",
    "                                  \"character\": casting_data[\"cast\"][j][\"character\"],\n",
    "                                  \"actor id\": casting_data[\"cast\"][j][\"id\"],\n",
    "                                  \"actor name\": casting_data[\"cast\"][j][\"name\"],\n",
    "                                  \"gender code\": casting_data[\"cast\"][j][\"gender\"],\n",
    "                                 \"Prominent\": True})\n",
    "        else:\n",
    "            pop_100_cast.append({\"id\": popular_100_df[\"id\"][i], \n",
    "                                  \"title\": popular_100_df[\"title\"][i],\n",
    "                                  \"character\": casting_data[\"cast\"][j][\"character\"],\n",
    "                                  \"actor id\": casting_data[\"cast\"][j][\"id\"],\n",
    "                                  \"actor name\": casting_data[\"cast\"][j][\"name\"],\n",
    "                                  \"gender code\": casting_data[\"cast\"][j][\"gender\"],\n",
    "                                 \"movie release year\": popular_100_df[\"year\"][i]\n",
    "                                 \"Prominent\": False})                      \n",
    "\n",
    "\n",
    "                   \n"
   ]
  },
  {
   "cell_type": "code",
   "execution_count": null,
   "metadata": {},
   "outputs": [],
   "source": [
    "pop_100_cast_df = pd.DataFrame.from_dict(pop_100_cast)\n",
    "pop_100_cast_df.head()"
   ]
  },
  {
   "cell_type": "markdown",
   "metadata": {},
   "source": [
    "### Birthday (age) info"
   ]
  },
  {
   "cell_type": "markdown",
   "metadata": {},
   "source": [
    "#### Function for calculating age"
   ]
  },
  {
   "cell_type": "code",
   "execution_count": null,
   "metadata": {},
   "outputs": [],
   "source": [
    "# Save to csv file\n",
    "pop_100_cast_df.to_csv(\"Cast_100_popular_movies.csv\")"
   ]
  },
  {
   "cell_type": "code",
   "execution_count": null,
   "metadata": {},
   "outputs": [],
   "source": [
    "def calculate_age(birth_date, release_year):\n",
    "    dob = datetime.strptime(birth_date, \"%Y-%m-%d\")\n",
    "    return release_year - dob.year"
   ]
  },
  {
   "cell_type": "markdown",
   "metadata": {},
   "source": [
    "* Pulling info on cast"
   ]
  },
  {
   "cell_type": "code",
   "execution_count": null,
   "metadata": {},
   "outputs": [],
   "source": [
    "age = []\n",
    "for row in pop_100_cast_df:\n",
    "    person_url = url + \"person/\" + str(row['actor id']) + \"?api_key=\" + api_key + \"&language=en-US\"\n",
    "    #time.sleep(2)\n",
    "    person_data = requests.get(person_url).json()\n",
    "    age.append(calculate_age(person_data[\"birthday\"], row['year']))"
   ]
  },
  {
   "cell_type": "code",
   "execution_count": null,
   "metadata": {},
   "outputs": [],
   "source": [
    "pop_100_cast_df[\"age\"] = age\n",
    "pop_100_cast_df.head()"
   ]
  },
  {
   "cell_type": "code",
   "execution_count": null,
   "metadata": {},
   "outputs": [],
   "source": [
    "gender_grpd_cast = pop_100_cast_df.groupby(\"gender code\")\n",
    "average_age_gender = gender_grpd_cast[\"age\"].mean()\n",
    "average_age_gender"
   ]
  },
  {
   "cell_type": "code",
   "execution_count": null,
   "metadata": {},
   "outputs": [],
   "source": []
  },
  {
   "cell_type": "markdown",
   "metadata": {},
   "source": [
    "# Movies in Theaters - Now Playing "
   ]
  },
  {
   "cell_type": "code",
   "execution_count": null,
   "metadata": {},
   "outputs": [],
   "source": [
    "# URL for Now Playing movies\n",
    "now_playing_url = url + \"movie/now_playing?api_key=\" + api_key + \"&language=en-US\" + \"&page=\" + str(page_no)"
   ]
  },
  {
   "cell_type": "code",
   "execution_count": null,
   "metadata": {},
   "outputs": [],
   "source": [
    "in_theatre = requests.get(now_playing_url).json()"
   ]
  },
  {
   "cell_type": "code",
   "execution_count": null,
   "metadata": {},
   "outputs": [],
   "source": [
    "movies_in_theatres = []\n",
    "for dt in in_theatre['results']:\n",
    "    movies_in_theatres.append({\"id\": dt['id'], \"title\": dt['title']})"
   ]
  },
  {
   "cell_type": "code",
   "execution_count": null,
   "metadata": {},
   "outputs": [],
   "source": [
    "movies_in_theatres_pd = pd.DataFrame.from_dict(movies_in_theatres)\n",
    "movies_in_theatres_pd.head()"
   ]
  },
  {
   "cell_type": "code",
   "execution_count": null,
   "metadata": {},
   "outputs": [],
   "source": [
    "#for i in range(len(movies_in_theatres_pd[\"id\"])):\n",
    "credits_url = url + str(movies_in_theatres_pd[\"id\"][0]) + \"movie/credits?api_key=\" + api_key"
   ]
  },
  {
   "cell_type": "code",
   "execution_count": null,
   "metadata": {},
   "outputs": [],
   "source": [
    "credits = requests.get(credits_url).json()\n",
    "pprint(credits)"
   ]
  },
  {
   "cell_type": "code",
   "execution_count": null,
   "metadata": {},
   "outputs": [],
   "source": []
  }
 ],
 "metadata": {
  "kernelspec": {
   "display_name": "Python 3",
   "language": "python",
   "name": "python3"
  },
  "language_info": {
   "codemirror_mode": {
    "name": "ipython",
    "version": 3
   },
   "file_extension": ".py",
   "mimetype": "text/x-python",
   "name": "python",
   "nbconvert_exporter": "python",
   "pygments_lexer": "ipython3",
   "version": "3.6.5"
  }
 },
 "nbformat": 4,
 "nbformat_minor": 2
}
