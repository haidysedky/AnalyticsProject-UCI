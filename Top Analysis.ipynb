{
 "cells": [
  {
   "cell_type": "code",
   "execution_count": 1,
   "metadata": {},
   "outputs": [],
   "source": [
    "import pandas as pd\n",
    "import matplotlib.pyplot as plt\n",
    "import numpy as np"
   ]
  },
  {
   "cell_type": "code",
   "execution_count": 2,
   "metadata": {},
   "outputs": [
    {
     "data": {
      "text/html": [
       "<div>\n",
       "<style scoped>\n",
       "    .dataframe tbody tr th:only-of-type {\n",
       "        vertical-align: middle;\n",
       "    }\n",
       "\n",
       "    .dataframe tbody tr th {\n",
       "        vertical-align: top;\n",
       "    }\n",
       "\n",
       "    .dataframe thead th {\n",
       "        text-align: right;\n",
       "    }\n",
       "</style>\n",
       "<table border=\"1\" class=\"dataframe\">\n",
       "  <thead>\n",
       "    <tr style=\"text-align: right;\">\n",
       "      <th></th>\n",
       "      <th>actor id</th>\n",
       "      <th>actor name</th>\n",
       "      <th>character</th>\n",
       "      <th>gender</th>\n",
       "      <th>movie id</th>\n",
       "      <th>movie release year</th>\n",
       "      <th>title</th>\n",
       "    </tr>\n",
       "  </thead>\n",
       "  <tbody>\n",
       "    <tr>\n",
       "      <th>0</th>\n",
       "      <td>1109</td>\n",
       "      <td>Kevin Peter Hall</td>\n",
       "      <td>The Predator</td>\n",
       "      <td>Male</td>\n",
       "      <td>169</td>\n",
       "      <td>1990</td>\n",
       "      <td>Predator 2</td>\n",
       "    </tr>\n",
       "    <tr>\n",
       "      <th>1</th>\n",
       "      <td>85</td>\n",
       "      <td>Johnny Depp</td>\n",
       "      <td>Edward Scissorhands</td>\n",
       "      <td>Male</td>\n",
       "      <td>162</td>\n",
       "      <td>1990</td>\n",
       "      <td>Edward Scissorhands</td>\n",
       "    </tr>\n",
       "    <tr>\n",
       "      <th>2</th>\n",
       "      <td>62</td>\n",
       "      <td>Bruce Willis</td>\n",
       "      <td>John McClane</td>\n",
       "      <td>Male</td>\n",
       "      <td>1573</td>\n",
       "      <td>1990</td>\n",
       "      <td>Die Hard 2</td>\n",
       "    </tr>\n",
       "    <tr>\n",
       "      <th>3</th>\n",
       "      <td>1204</td>\n",
       "      <td>Julia Roberts</td>\n",
       "      <td>Vivian Ward</td>\n",
       "      <td>Female</td>\n",
       "      <td>114</td>\n",
       "      <td>1990</td>\n",
       "      <td>Pretty Woman</td>\n",
       "    </tr>\n",
       "    <tr>\n",
       "      <th>5</th>\n",
       "      <td>1158</td>\n",
       "      <td>Al Pacino</td>\n",
       "      <td>Don Michael Corleone</td>\n",
       "      <td>Male</td>\n",
       "      <td>242</td>\n",
       "      <td>1990</td>\n",
       "      <td>The Godfather: Part III</td>\n",
       "    </tr>\n",
       "  </tbody>\n",
       "</table>\n",
       "</div>"
      ],
      "text/plain": [
       "   actor id        actor name             character  gender  movie id  \\\n",
       "0      1109  Kevin Peter Hall          The Predator    Male       169   \n",
       "1        85       Johnny Depp   Edward Scissorhands    Male       162   \n",
       "2        62      Bruce Willis          John McClane    Male      1573   \n",
       "3      1204     Julia Roberts           Vivian Ward  Female       114   \n",
       "5      1158         Al Pacino  Don Michael Corleone    Male       242   \n",
       "\n",
       "   movie release year                    title  \n",
       "0                1990               Predator 2  \n",
       "1                1990      Edward Scissorhands  \n",
       "2                1990               Die Hard 2  \n",
       "3                1990             Pretty Woman  \n",
       "5                1990  The Godfather: Part III  "
      ]
     },
     "execution_count": 2,
     "metadata": {},
     "output_type": "execute_result"
    }
   ],
   "source": [
    "df = pd.read_csv(\"Resources/Cast_100_popular_movies.csv\", index_col=0)\n",
    "df.head()"
   ]
  },
  {
   "cell_type": "code",
   "execution_count": 3,
   "metadata": {},
   "outputs": [],
   "source": [
    "df_female = df.loc[df[\"gender\"]==\"Female\",:]\n",
    "df_male = df.loc[df[\"gender\"]==\"Male\",:]"
   ]
  },
  {
   "cell_type": "code",
   "execution_count": 4,
   "metadata": {},
   "outputs": [],
   "source": [
    "df_female_top = (pd.DataFrame(df_female[\"actor name\"].value_counts())).rename(columns={\"actor name\":  \"Number of Movies\"})\n",
    "df_female_top.sort_values(by=\"Number of Movies\", ascending=False, inplace=True)\n",
    "df_female_top = df_female_top.head(5)\n",
    "df_female_top.reset_index(inplace=True)\n",
    "df_male_top = (pd.DataFrame(df_male[\"actor name\"].value_counts())).rename(columns={\"actor name\":  \"Number of Movies\"})\n",
    "df_male_top.sort_values(by=\"Number of Movies\", ascending=False, inplace=True)\n",
    "df_male_top = df_male_top.head(5)\n",
    "df_male_top.reset_index(inplace=True)"
   ]
  },
  {
   "cell_type": "code",
   "execution_count": 15,
   "metadata": {},
   "outputs": [
    {
     "data": {
      "image/png": "[encoded data removed]",
      "text/plain": [
       "<Figure size 432x288 with 1 Axes>"
      ]
     },
     "metadata": {},
     "output_type": "display_data"
    }
   ],
   "source": [
    "x_ticks = np.arange(0,5,1)\n",
    "#plt.subplot(1,3,1)\n",
    "plt.bar(x_ticks,df_female_top[\"Number of Movies\"], align='center', color='skyblue', edgecolor='grey',linewidth=0.7)\n",
    "plt.xticks(x_ticks,df_female_top[\"index\"], rotation=45)\n",
    "plt.title(\"Top 5 Hired Actresses in Popular Movies\")\n",
    "plt.xlabel(\"Actress Name\")\n",
    "plt.ylabel(\"Number of Movies\")\n",
    "plt.figsize=(200,30)\n"
   ]
  },
  {
   "cell_type": "code",
   "execution_count": 16,
   "metadata": {},
   "outputs": [
    {
     "data": {
      "image/png": "[encoded data removed]",
      "text/plain": [
       "<Figure size 432x288 with 1 Axes>"
      ]
     },
     "metadata": {},
     "output_type": "display_data"
    }
   ],
   "source": [
    "#plt.subplot(1,3,3)\n",
    "plt.bar(x_ticks,df_male_top[\"Number of Movies\"], align='center', color='skyblue', edgecolor='grey',linewidth=0.7)\n",
    "plt.xticks(x_ticks,df_male_top[\"index\"], rotation=45)\n",
    "plt.title(\"Top 5 Hired Actors in Popular Movies\")\n",
    "plt.xlabel(\"Actor Name\")\n",
    "#plt.ylabel(\"Number of Movies\")\n",
    "plt.figsize=(200,30)"
   ]
  },
  {
   "cell_type": "code",
   "execution_count": null,
   "metadata": {},
   "outputs": [],
   "source": []
  }
 ],
 "metadata": {
  "kernelspec": {
   "display_name": "Python [conda env:PythonData]",
   "language": "python",
   "name": "conda-env-PythonData-py"
  },
  "language_info": {
   "codemirror_mode": {
    "name": "ipython",
    "version": 3
   },
   "file_extension": ".py",
   "mimetype": "text/x-python",
   "name": "python",
   "nbconvert_exporter": "python",
   "pygments_lexer": "ipython3",
   "version": "3.6.5"
  }
 },
 "nbformat": 4,
 "nbformat_minor": 2
}
