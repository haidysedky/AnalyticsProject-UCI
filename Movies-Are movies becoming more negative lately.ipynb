{
 "cells": [
  {
   "cell_type": "code",
   "execution_count": 1,
   "metadata": {},
   "outputs": [],
   "source": [
    "import pandas as pd\n",
    "import matplotlib.pyplot as plt\n",
    "import requests\n",
    "import json\n",
    "from pprint import pprint\n",
    "from config import api_key\n",
    "import time\n",
    "import datetime\n",
    "from vaderSentiment.vaderSentiment import SentimentIntensityAnalyzer\n",
    "analyzer = SentimentIntensityAnalyzer()"
   ]
  },
  {
   "cell_type": "code",
   "execution_count": 2,
   "metadata": {},
   "outputs": [],
   "source": [
    "# URL to discover movies for the last year starting on 2017-09-01 and ending on 2018-09-01\n",
    "base_url = \"https://api.themoviedb.org/3/\"\n",
    "discover_url = base_url+\"discover/movie?api_key=\"+ api_key + \\\n",
    "\"&language=en-US&region=US&sort_by=popularity.desc&include_adult=false&include_video=false\" \\\n",
    "\"&primary_release_date.gte=2017-09-01&primary_release_date.lte=2018-08-31&page=\" "
   ]
  },
  {
   "cell_type": "code",
   "execution_count": 3,
   "metadata": {},
   "outputs": [],
   "source": [
    "movie_list=[]\n",
    "release_date=[]\n",
    "sentiment_compound=[]\n",
    "for page in range(1,250):\n",
    "    response = requests.get(discover_url+str(page)).json()\n",
    "    for text in response[\"results\"]:\n",
    "        sentiment_results = analyzer.polarity_scores(text[\"overview\"])\n",
    "        sentiment_comp = sentiment_results[\"compound\"]\n",
    "        sentiment_compound.append(sentiment_comp)\n",
    "        movie_list.append(text[\"id\"])\n",
    "        release_date.append(text[\"release_date\"])     "
   ]
  },
  {
   "cell_type": "code",
   "execution_count": 28,
   "metadata": {},
   "outputs": [],
   "source": [
    "year_list = []\n",
    "for i in range (0,len(movie_list)):\n",
    "    year = datetime.datetime.strptime(release_date[i],\"%Y-%m-%d\").year\n",
    "    year_list.append(year)\n",
    "    #month = datetime.datetime.strptime(release_date[i], \"%Y-%m-%d\").month\n",
    "    #YearMonth.append(str(year)+str(month))"
   ]
  },
  {
   "cell_type": "code",
   "execution_count": 30,
   "metadata": {},
   "outputs": [],
   "source": [
    "df_sentiment_analytics = pd.DataFrame({\"movie id\": movie_list,\n",
    "                        \"release date\": release_date,\n",
    "                        \"sentiment comp\": sentiment_compound,\n",
    "                        \"Year\": year_list})"
   ]
  },
  {
   "cell_type": "code",
   "execution_count": 32,
   "metadata": {},
   "outputs": [
    {
     "data": {
      "text/html": [
       "<div>\n",
       "<style scoped>\n",
       "    .dataframe tbody tr th:only-of-type {\n",
       "        vertical-align: middle;\n",
       "    }\n",
       "\n",
       "    .dataframe tbody tr th {\n",
       "        vertical-align: top;\n",
       "    }\n",
       "\n",
       "    .dataframe thead th {\n",
       "        text-align: right;\n",
       "    }\n",
       "</style>\n",
       "<table border=\"1\" class=\"dataframe\">\n",
       "  <thead>\n",
       "    <tr style=\"text-align: right;\">\n",
       "      <th></th>\n",
       "      <th>Year</th>\n",
       "      <th>sentiment comp</th>\n",
       "    </tr>\n",
       "  </thead>\n",
       "  <tbody>\n",
       "    <tr>\n",
       "      <th>0</th>\n",
       "      <td>2013</td>\n",
       "      <td>0.000000</td>\n",
       "    </tr>\n",
       "    <tr>\n",
       "      <th>1</th>\n",
       "      <td>2015</td>\n",
       "      <td>0.440400</td>\n",
       "    </tr>\n",
       "    <tr>\n",
       "      <th>2</th>\n",
       "      <td>2016</td>\n",
       "      <td>0.193400</td>\n",
       "    </tr>\n",
       "    <tr>\n",
       "      <th>3</th>\n",
       "      <td>2017</td>\n",
       "      <td>0.036167</td>\n",
       "    </tr>\n",
       "    <tr>\n",
       "      <th>4</th>\n",
       "      <td>2018</td>\n",
       "      <td>0.020472</td>\n",
       "    </tr>\n",
       "    <tr>\n",
       "      <th>5</th>\n",
       "      <td>2019</td>\n",
       "      <td>-0.723700</td>\n",
       "    </tr>\n",
       "  </tbody>\n",
       "</table>\n",
       "</div>"
      ],
      "text/plain": [
       "   Year  sentiment comp\n",
       "0  2013        0.000000\n",
       "1  2015        0.440400\n",
       "2  2016        0.193400\n",
       "3  2017        0.036167\n",
       "4  2018        0.020472\n",
       "5  2019       -0.723700"
      ]
     },
     "execution_count": 32,
     "metadata": {},
     "output_type": "execute_result"
    }
   ],
   "source": [
    "group_by_yearmonth = df_sentiment_analytics.groupby(df_sentiment_analytics[\"Year\"])\n",
    "df_grouped = pd.DataFrame(group_by_yearmonth[\"sentiment comp\"].mean())\n",
    "df_grouped = df_grouped.reset_index()\n",
    "df_grouped"
   ]
  },
  {
   "cell_type": "code",
   "execution_count": 33,
   "metadata": {},
   "outputs": [],
   "source": [
    "#x_min = datetime.datetime.strptime((df_sentimet_analytics[\"release date\"].min()),\"%Y-%m-%d\") - datetime.timedelta(days=5)\n",
    "#x_max = datetime.datetime.strptime((df_sentimet_analytics[\"release date\"].max()),\"%Y-%m-%d\") + datetime.timedelta(days=5)\n",
    "#x_max"
   ]
  },
  {
   "cell_type": "code",
   "execution_count": 35,
   "metadata": {},
   "outputs": [
    {
     "data": {
      "text/plain": [
       "(-1.1, 1.1)"
      ]
     },
     "execution_count": 35,
     "metadata": {},
     "output_type": "execute_result"
    },
    {
     "data": {
      "image/png": "[encoded data removed]",
      "text/plain": [
       "<Figure size 432x288 with 1 Axes>"
      ]
     },
     "metadata": {},
     "output_type": "display_data"
    }
   ],
   "source": [
    "plt.scatter(df_grouped[\"Year\"], df_grouped[\"sentiment comp\"], color=\"steelblue\", alpha=0.7,marker=\"o\")\n",
    "plt.grid(True, alpha=0.5)\n",
    "plt.title(\"What do people like to watch (Sad/Happy) movies?\")\n",
    "plt.xlabel(\"Release Year\")\n",
    "plt.ylabel(\"Sentiment Compound\")\n",
    "plt.ylim(-1.1,1.1)\n",
    "#plt.xlim(\"201709\", \"201809\")"
   ]
  },
  {
   "cell_type": "code",
   "execution_count": null,
   "metadata": {},
   "outputs": [],
   "source": []
  },
  {
   "cell_type": "code",
   "execution_count": null,
   "metadata": {},
   "outputs": [],
   "source": []
  }
 ],
 "metadata": {
  "kernelspec": {
   "display_name": "Python [default]",
   "language": "python",
   "name": "python3"
  },
  "language_info": {
   "codemirror_mode": {
    "name": "ipython",
    "version": 3
   },
   "file_extension": ".py",
   "mimetype": "text/x-python",
   "name": "python",
   "nbconvert_exporter": "python",
   "pygments_lexer": "ipython3",
   "version": "3.6.5"
  }
 },
 "nbformat": 4,
 "nbformat_minor": 2
}
